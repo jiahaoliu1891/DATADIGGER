{
 "cells": [
  {
   "cell_type": "code",
   "execution_count": 1,
   "id": "2ec6d2eb",
   "metadata": {
    "pycharm": {
     "name": "#%%\n"
    }
   },
   "outputs": [],
   "source": [
    "import os\n",
    "import pandas as pd\n",
    "import numpy as np\n",
    "import json"
   ]
  },
  {
   "cell_type": "markdown",
   "id": "e697f7e9",
   "metadata": {
    "pycharm": {
     "name": "#%% md\n"
    }
   },
   "source": [
    "# Data Processing"
   ]
  },
  {
   "cell_type": "code",
   "execution_count": 2,
   "id": "2bcd9d8a",
   "metadata": {
    "pycharm": {
     "name": "#%%\n"
    }
   },
   "outputs": [
    {
     "name": "stdout",
     "output_type": "stream",
     "text": [
      "Product Detail Dir: ['B071FXZBMV.json', 'B096WLN8XJ.json', 'B09B2QR6LR.json', 'B09T3P7MJ9.json', 'B003I7HS5M.json']\n",
      "Best Seller Dir: ['industrial_2.json', 'magazines_2.json', 'musical_2.json', 'sports_2.json', 'electronics_1.json']\n"
     ]
    }
   ],
   "source": [
    "DATA_ROOT = \"../data\"\n",
    "PRODUCT_PATH = os.path.join(DATA_ROOT, 'product_detail/json')\n",
    "BS_PATH = os.path.join(DATA_ROOT, 'bestseller/bsData')\n",
    "\n",
    "print(f'Product Detail Dir: {os.listdir(PRODUCT_PATH)[0:5]}')\n",
    "print(f'Best Seller Dir: {os.listdir(BS_PATH)[0:5]}')"
   ]
  },
  {
   "cell_type": "markdown",
   "id": "659150d0",
   "metadata": {
    "pycharm": {
     "name": "#%% md\n"
    }
   },
   "source": [
    "## Product Detail Data"
   ]
  },
  {
   "cell_type": "code",
   "execution_count": 3,
   "id": "7bb1b703",
   "metadata": {
    "pycharm": {
     "name": "#%%\n"
    }
   },
   "outputs": [],
   "source": [
    "product_rows = []\n",
    "product_overview = {}\n",
    "for filename in os.listdir(PRODUCT_PATH):\n",
    "    with open(f'{PRODUCT_PATH}/{filename}', 'r') as f:\n",
    "        product = json.load(f)\n",
    "        id_, overview = product['id'], product['overview']\n",
    "        product_overview[id_] = overview\n",
    "        # remove overview from the product dict\n",
    "        product.pop('overview')\n",
    "        # title is the same as id\n",
    "        product.pop('title')\n",
    "        # store product in a pandas dataframe\n",
    "        product_rows.append(product)        \n"
   ]
  },
  {
   "cell_type": "code",
   "execution_count": 4,
   "id": "2efbc8a0",
   "metadata": {
    "pycharm": {
     "name": "#%%\n"
    }
   },
   "outputs": [
    {
     "name": "stdout",
     "output_type": "stream",
     "text": [
      "column data type:\n",
      " id               object\n",
      "price           float64\n",
      "discount        float64\n",
      "country          object\n",
      "quantity          int64\n",
      "missOverview       bool\n",
      "missDiscount       bool\n",
      "missCountry        bool\n",
      "missQuantity       bool\n",
      "missPrice          bool\n",
      "dtype: object\n",
      "number of rows:  786\n",
      "number of unique id:  786\n"
     ]
    },
    {
     "data": {
      "text/plain": "           id  price  discount country  quantity  missOverview  missDiscount  \\\n0  B071FXZBMV   8.99       0.0      US        30         False          True   \n1  B096WLN8XJ  44.00       0.0      US         2          True          True   \n2  B09B2QR6LR  17.90       0.0      US         7          True          True   \n3  B09T3P7MJ9  16.25       0.0      US        13         False          True   \n4  B003I7HS5M   0.00       0.0      US         0          True          True   \n\n   missCountry  missQuantity  missPrice  \n0        False         False      False  \n1        False         False      False  \n2        False         False      False  \n3        False         False      False  \n4        False         False       True  ",
      "text/html": "<div>\n<style scoped>\n    .dataframe tbody tr th:only-of-type {\n        vertical-align: middle;\n    }\n\n    .dataframe tbody tr th {\n        vertical-align: top;\n    }\n\n    .dataframe thead th {\n        text-align: right;\n    }\n</style>\n<table border=\"1\" class=\"dataframe\">\n  <thead>\n    <tr style=\"text-align: right;\">\n      <th></th>\n      <th>id</th>\n      <th>price</th>\n      <th>discount</th>\n      <th>country</th>\n      <th>quantity</th>\n      <th>missOverview</th>\n      <th>missDiscount</th>\n      <th>missCountry</th>\n      <th>missQuantity</th>\n      <th>missPrice</th>\n    </tr>\n  </thead>\n  <tbody>\n    <tr>\n      <th>0</th>\n      <td>B071FXZBMV</td>\n      <td>8.99</td>\n      <td>0.0</td>\n      <td>US</td>\n      <td>30</td>\n      <td>False</td>\n      <td>True</td>\n      <td>False</td>\n      <td>False</td>\n      <td>False</td>\n    </tr>\n    <tr>\n      <th>1</th>\n      <td>B096WLN8XJ</td>\n      <td>44.00</td>\n      <td>0.0</td>\n      <td>US</td>\n      <td>2</td>\n      <td>True</td>\n      <td>True</td>\n      <td>False</td>\n      <td>False</td>\n      <td>False</td>\n    </tr>\n    <tr>\n      <th>2</th>\n      <td>B09B2QR6LR</td>\n      <td>17.90</td>\n      <td>0.0</td>\n      <td>US</td>\n      <td>7</td>\n      <td>True</td>\n      <td>True</td>\n      <td>False</td>\n      <td>False</td>\n      <td>False</td>\n    </tr>\n    <tr>\n      <th>3</th>\n      <td>B09T3P7MJ9</td>\n      <td>16.25</td>\n      <td>0.0</td>\n      <td>US</td>\n      <td>13</td>\n      <td>False</td>\n      <td>True</td>\n      <td>False</td>\n      <td>False</td>\n      <td>False</td>\n    </tr>\n    <tr>\n      <th>4</th>\n      <td>B003I7HS5M</td>\n      <td>0.00</td>\n      <td>0.0</td>\n      <td>US</td>\n      <td>0</td>\n      <td>True</td>\n      <td>True</td>\n      <td>False</td>\n      <td>False</td>\n      <td>True</td>\n    </tr>\n  </tbody>\n</table>\n</div>"
     },
     "execution_count": 4,
     "metadata": {},
     "output_type": "execute_result"
    }
   ],
   "source": [
    "df_prod = pd.DataFrame(product_rows)\n",
    "print('column data type:\\n', df_prod.dtypes)\n",
    "\n",
    "print('number of rows: ', len(df_prod))\n",
    "print('number of unique id: ', len(df_prod['id'].unique()))\n",
    "# Primary Key\n",
    "assert len(df_prod) == len(df_prod['id'].unique())\n",
    "\n",
    "df_prod.head()"
   ]
  },
  {
   "cell_type": "code",
   "execution_count": 5,
   "id": "660d7f8d",
   "metadata": {
    "pycharm": {
     "name": "#%%\n"
    }
   },
   "outputs": [
    {
     "data": {
      "text/plain": "{'_Color_': 'Black',\n '_Brand_': 'OHill',\n '_Item_Weight_': '0.15 Pounds',\n '_Binding_': 'Unknown Binding'}"
     },
     "execution_count": 5,
     "metadata": {},
     "output_type": "execute_result"
    }
   ],
   "source": [
    "product_overview['B071FXZBMV']"
   ]
  },
  {
   "cell_type": "markdown",
   "id": "623332cf",
   "metadata": {
    "pycharm": {
     "name": "#%% md\n"
    }
   },
   "source": [
    "## Best Seller Data"
   ]
  },
  {
   "cell_type": "code",
   "execution_count": 6,
   "id": "c79157ae",
   "metadata": {
    "pycharm": {
     "name": "#%%\n"
    }
   },
   "outputs": [],
   "source": [
    "bs_rows = []\n",
    "bs_overview = {}\n",
    "for filename in os.listdir(BS_PATH):\n",
    "    with open(f'{BS_PATH}/{filename}', 'r') as f:\n",
    "        bs = json.load(f)\n",
    "        # remove child_categories, next and url from the list\n",
    "        bs.pop('child_categories')\n",
    "        bs.pop('next')\n",
    "        bs.pop('url')\n",
    "        # now only category and product_listings left\n",
    "        _category, _product_listings = bs['category'], bs['product_listings']\n",
    "        for product_listing in _product_listings:\n",
    "            _id, _rank, _name, _ratings_count, _rating = product_listing['asin'], product_listing['rank'], product_listing['name'], product_listing[\n",
    "                'ratings_count'], product_listing['rating']\n",
    "            if _id == None:\n",
    "                continue\n",
    "            temp = [_id, _rank, _name, _ratings_count, _rating, _category]\n",
    "            bs_rows.append(temp)\n"
   ]
  },
  {
   "cell_type": "code",
   "execution_count": 7,
   "id": "38bc954b",
   "metadata": {
    "pycharm": {
     "name": "#%%\n"
    }
   },
   "outputs": [
    {
     "name": "stdout",
     "output_type": "stream",
     "text": [
      "column data type:\n",
      " id                object\n",
      "rank               int64\n",
      "name              object\n",
      "ratings_count    float64\n",
      "rating           float64\n",
      "category          object\n",
      "dtype: object\n"
     ]
    },
    {
     "data": {
      "text/plain": "             id  rank                                               name  \\\n397  B079V67BFW     1  Pampers Choose Your Count, Sensitive Water Bas...   \n398  B07SVHLGV8     2  Diapers Newborn/Size 0 (< 10 lb), 140 Count - ...   \n399  B07MB5RY9N     3  Baby Wipes, Huggies Natural Care Sensitive Bab...   \n400  B0779Z53SD     4  WaterWipes Original Baby Wipes, 99.9% Water, U...   \n401  B08QRKY3NJ     5  Baby Wipes, Unscented, Huggies Simply Clean Fr...   \n\n     ratings_count  rating category  \n397        42199.0     4.8     Baby  \n398        54499.0     4.8     Baby  \n399        70559.0     4.8     Baby  \n400         1408.0     4.8     Baby  \n401        18881.0     4.8     Baby  ",
      "text/html": "<div>\n<style scoped>\n    .dataframe tbody tr th:only-of-type {\n        vertical-align: middle;\n    }\n\n    .dataframe tbody tr th {\n        vertical-align: top;\n    }\n\n    .dataframe thead th {\n        text-align: right;\n    }\n</style>\n<table border=\"1\" class=\"dataframe\">\n  <thead>\n    <tr style=\"text-align: right;\">\n      <th></th>\n      <th>id</th>\n      <th>rank</th>\n      <th>name</th>\n      <th>ratings_count</th>\n      <th>rating</th>\n      <th>category</th>\n    </tr>\n  </thead>\n  <tbody>\n    <tr>\n      <th>397</th>\n      <td>B079V67BFW</td>\n      <td>1</td>\n      <td>Pampers Choose Your Count, Sensitive Water Bas...</td>\n      <td>42199.0</td>\n      <td>4.8</td>\n      <td>Baby</td>\n    </tr>\n    <tr>\n      <th>398</th>\n      <td>B07SVHLGV8</td>\n      <td>2</td>\n      <td>Diapers Newborn/Size 0 (&lt; 10 lb), 140 Count - ...</td>\n      <td>54499.0</td>\n      <td>4.8</td>\n      <td>Baby</td>\n    </tr>\n    <tr>\n      <th>399</th>\n      <td>B07MB5RY9N</td>\n      <td>3</td>\n      <td>Baby Wipes, Huggies Natural Care Sensitive Bab...</td>\n      <td>70559.0</td>\n      <td>4.8</td>\n      <td>Baby</td>\n    </tr>\n    <tr>\n      <th>400</th>\n      <td>B0779Z53SD</td>\n      <td>4</td>\n      <td>WaterWipes Original Baby Wipes, 99.9% Water, U...</td>\n      <td>1408.0</td>\n      <td>4.8</td>\n      <td>Baby</td>\n    </tr>\n    <tr>\n      <th>401</th>\n      <td>B08QRKY3NJ</td>\n      <td>5</td>\n      <td>Baby Wipes, Unscented, Huggies Simply Clean Fr...</td>\n      <td>18881.0</td>\n      <td>4.8</td>\n      <td>Baby</td>\n    </tr>\n  </tbody>\n</table>\n</div>"
     },
     "execution_count": 7,
     "metadata": {},
     "output_type": "execute_result"
    }
   ],
   "source": [
    "df_bs = pd.DataFrame(bs_rows)\n",
    "df_bs.columns = ['id', 'rank', 'name', 'ratings_count', 'rating', 'category']\n",
    "\n",
    "# convert data type\n",
    "df_bs['rating'] = df_bs['rating'].astype(float)\n",
    "df_bs['ratings_count'] = df_bs['ratings_count'].astype(float)\n",
    "print('column data type:\\n', df_bs.dtypes)\n",
    "\n",
    "# sort data \n",
    "df_bs = df_bs.sort_values(by=['category', 'rank'])\n",
    "df_bs.head()"
   ]
  },
  {
   "cell_type": "code",
   "execution_count": 8,
   "id": "c9d23ef0",
   "metadata": {
    "pycharm": {
     "name": "#%%\n"
    }
   },
   "outputs": [
    {
     "name": "stdout",
     "output_type": "stream",
     "text": [
      "number of rows:  994\n",
      "number of unique id:  986\n",
      "Duplicated Rows:\n",
      "number of rows:  986\n",
      "number of unique id:  986\n"
     ]
    }
   ],
   "source": [
    "print('number of rows: ', len(df_bs))\n",
    "print('number of unique id: ', len(df_bs['id'].unique()))\n",
    "# print duplicate data\n",
    "mask = df_bs['id'].duplicated(keep=False)\n",
    "print('Duplicated Rows:')\n",
    "df_bs[mask].sort_values('id')\n",
    "# Drop duplicate\n",
    "df_bs = df_bs.drop_duplicates(subset=['id'], keep='first')\n",
    "print('number of rows: ', len(df_bs))\n",
    "print('number of unique id: ', len(df_bs['id'].unique()))\n",
    "assert len(df_bs['id']) == len(df_bs['id'].unique())"
   ]
  },
  {
   "cell_type": "markdown",
   "id": "3b82ab75",
   "metadata": {
    "pycharm": {
     "name": "#%% md\n"
    }
   },
   "source": [
    "## Join two tables & Define top seller"
   ]
  },
  {
   "cell_type": "code",
   "execution_count": 9,
   "id": "2ea0c698",
   "metadata": {
    "pycharm": {
     "name": "#%%\n"
    }
   },
   "outputs": [
    {
     "data": {
      "text/plain": "           id  price  discount country  quantity  missOverview  missDiscount  \\\n0  B071FXZBMV   8.99       0.0      US        30         False          True   \n1  B096WLN8XJ  44.00       0.0      US         2          True          True   \n2  B09B2QR6LR  17.90       0.0      US         7          True          True   \n3  B09T3P7MJ9  16.25       0.0      US        13         False          True   \n4  B003I7HS5M   0.00       0.0      US         0          True          True   \n\n   missCountry  missQuantity  missPrice  rank  \\\n0        False         False      False    31   \n1        False         False      False    38   \n2        False         False      False    81   \n3        False         False      False     7   \n4        False         False       True    40   \n\n                                                name  ratings_count  rating  \\\n0  OHill Cable Clips,16 Pack Black Adhesive Cord ...        45032.0     4.5   \n1           2021 Topps Series 2 Baseball Blaster Box          203.0     4.7   \n2  2021 Panini Prizm Draft Picks Football CELLO p...           21.0     4.1   \n3  Kitchens Slow Cooker Liners, Regular (Fits 3-8...            NaN     NaN   \n4                                    Ranger Rick Jr.         1595.0     4.7   \n\n                 category  \n0             Electronics  \n1     Sports Collectibles  \n2     Sports Collectibles  \n3        Kitchen & Dining  \n4  Magazine Subscriptions  ",
      "text/html": "<div>\n<style scoped>\n    .dataframe tbody tr th:only-of-type {\n        vertical-align: middle;\n    }\n\n    .dataframe tbody tr th {\n        vertical-align: top;\n    }\n\n    .dataframe thead th {\n        text-align: right;\n    }\n</style>\n<table border=\"1\" class=\"dataframe\">\n  <thead>\n    <tr style=\"text-align: right;\">\n      <th></th>\n      <th>id</th>\n      <th>price</th>\n      <th>discount</th>\n      <th>country</th>\n      <th>quantity</th>\n      <th>missOverview</th>\n      <th>missDiscount</th>\n      <th>missCountry</th>\n      <th>missQuantity</th>\n      <th>missPrice</th>\n      <th>rank</th>\n      <th>name</th>\n      <th>ratings_count</th>\n      <th>rating</th>\n      <th>category</th>\n    </tr>\n  </thead>\n  <tbody>\n    <tr>\n      <th>0</th>\n      <td>B071FXZBMV</td>\n      <td>8.99</td>\n      <td>0.0</td>\n      <td>US</td>\n      <td>30</td>\n      <td>False</td>\n      <td>True</td>\n      <td>False</td>\n      <td>False</td>\n      <td>False</td>\n      <td>31</td>\n      <td>OHill Cable Clips,16 Pack Black Adhesive Cord ...</td>\n      <td>45032.0</td>\n      <td>4.5</td>\n      <td>Electronics</td>\n    </tr>\n    <tr>\n      <th>1</th>\n      <td>B096WLN8XJ</td>\n      <td>44.00</td>\n      <td>0.0</td>\n      <td>US</td>\n      <td>2</td>\n      <td>True</td>\n      <td>True</td>\n      <td>False</td>\n      <td>False</td>\n      <td>False</td>\n      <td>38</td>\n      <td>2021 Topps Series 2 Baseball Blaster Box</td>\n      <td>203.0</td>\n      <td>4.7</td>\n      <td>Sports Collectibles</td>\n    </tr>\n    <tr>\n      <th>2</th>\n      <td>B09B2QR6LR</td>\n      <td>17.90</td>\n      <td>0.0</td>\n      <td>US</td>\n      <td>7</td>\n      <td>True</td>\n      <td>True</td>\n      <td>False</td>\n      <td>False</td>\n      <td>False</td>\n      <td>81</td>\n      <td>2021 Panini Prizm Draft Picks Football CELLO p...</td>\n      <td>21.0</td>\n      <td>4.1</td>\n      <td>Sports Collectibles</td>\n    </tr>\n    <tr>\n      <th>3</th>\n      <td>B09T3P7MJ9</td>\n      <td>16.25</td>\n      <td>0.0</td>\n      <td>US</td>\n      <td>13</td>\n      <td>False</td>\n      <td>True</td>\n      <td>False</td>\n      <td>False</td>\n      <td>False</td>\n      <td>7</td>\n      <td>Kitchens Slow Cooker Liners, Regular (Fits 3-8...</td>\n      <td>NaN</td>\n      <td>NaN</td>\n      <td>Kitchen &amp; Dining</td>\n    </tr>\n    <tr>\n      <th>4</th>\n      <td>B003I7HS5M</td>\n      <td>0.00</td>\n      <td>0.0</td>\n      <td>US</td>\n      <td>0</td>\n      <td>True</td>\n      <td>True</td>\n      <td>False</td>\n      <td>False</td>\n      <td>True</td>\n      <td>40</td>\n      <td>Ranger Rick Jr.</td>\n      <td>1595.0</td>\n      <td>4.7</td>\n      <td>Magazine Subscriptions</td>\n    </tr>\n  </tbody>\n</table>\n</div>"
     },
     "execution_count": 9,
     "metadata": {},
     "output_type": "execute_result"
    }
   ],
   "source": [
    "# join product and bestseller table\n",
    "df = pd.merge(df_prod, df_bs, on=\"id\")\n",
    "df.head()"
   ]
  },
  {
   "cell_type": "code",
   "execution_count": 10,
   "id": "34bdc877",
   "metadata": {
    "pycharm": {
     "name": "#%%\n"
    }
   },
   "outputs": [
    {
     "data": {
      "text/plain": "           id  price  discount country  quantity  missOverview  missDiscount  \\\n0  B071FXZBMV   8.99      0.00      US        30         False          True   \n1  B096WLN8XJ  44.00      0.00      US         2          True          True   \n2  B09B2QR6LR  17.90      0.00      US         7          True          True   \n4  B003I7HS5M   0.00      0.00      US         0          True          True   \n5  B005HNZ5T6  11.60     13.36      US        90         False         False   \n\n   missCountry  missQuantity  missPrice  rank  \\\n0        False         False      False    31   \n1        False         False      False    38   \n2        False         False      False    81   \n4        False         False       True    40   \n5        False         False      False    69   \n\n                                                name  ratings_count  rating  \\\n0  OHill Cable Clips,16 Pack Black Adhesive Cord ...        45032.0     4.5   \n1           2021 Topps Series 2 Baseball Blaster Box          203.0     4.7   \n2  2021 Panini Prizm Draft Picks Football CELLO p...           21.0     4.1   \n4                                    Ranger Rick Jr.         1595.0     4.7   \n5  uni-ball 207 Retractable Gel Pens, Bold Point ...        28045.0     4.7   \n\n                 category  \n0             Electronics  \n1     Sports Collectibles  \n2     Sports Collectibles  \n4  Magazine Subscriptions  \n5         Office Products  ",
      "text/html": "<div>\n<style scoped>\n    .dataframe tbody tr th:only-of-type {\n        vertical-align: middle;\n    }\n\n    .dataframe tbody tr th {\n        vertical-align: top;\n    }\n\n    .dataframe thead th {\n        text-align: right;\n    }\n</style>\n<table border=\"1\" class=\"dataframe\">\n  <thead>\n    <tr style=\"text-align: right;\">\n      <th></th>\n      <th>id</th>\n      <th>price</th>\n      <th>discount</th>\n      <th>country</th>\n      <th>quantity</th>\n      <th>missOverview</th>\n      <th>missDiscount</th>\n      <th>missCountry</th>\n      <th>missQuantity</th>\n      <th>missPrice</th>\n      <th>rank</th>\n      <th>name</th>\n      <th>ratings_count</th>\n      <th>rating</th>\n      <th>category</th>\n    </tr>\n  </thead>\n  <tbody>\n    <tr>\n      <th>0</th>\n      <td>B071FXZBMV</td>\n      <td>8.99</td>\n      <td>0.00</td>\n      <td>US</td>\n      <td>30</td>\n      <td>False</td>\n      <td>True</td>\n      <td>False</td>\n      <td>False</td>\n      <td>False</td>\n      <td>31</td>\n      <td>OHill Cable Clips,16 Pack Black Adhesive Cord ...</td>\n      <td>45032.0</td>\n      <td>4.5</td>\n      <td>Electronics</td>\n    </tr>\n    <tr>\n      <th>1</th>\n      <td>B096WLN8XJ</td>\n      <td>44.00</td>\n      <td>0.00</td>\n      <td>US</td>\n      <td>2</td>\n      <td>True</td>\n      <td>True</td>\n      <td>False</td>\n      <td>False</td>\n      <td>False</td>\n      <td>38</td>\n      <td>2021 Topps Series 2 Baseball Blaster Box</td>\n      <td>203.0</td>\n      <td>4.7</td>\n      <td>Sports Collectibles</td>\n    </tr>\n    <tr>\n      <th>2</th>\n      <td>B09B2QR6LR</td>\n      <td>17.90</td>\n      <td>0.00</td>\n      <td>US</td>\n      <td>7</td>\n      <td>True</td>\n      <td>True</td>\n      <td>False</td>\n      <td>False</td>\n      <td>False</td>\n      <td>81</td>\n      <td>2021 Panini Prizm Draft Picks Football CELLO p...</td>\n      <td>21.0</td>\n      <td>4.1</td>\n      <td>Sports Collectibles</td>\n    </tr>\n    <tr>\n      <th>4</th>\n      <td>B003I7HS5M</td>\n      <td>0.00</td>\n      <td>0.00</td>\n      <td>US</td>\n      <td>0</td>\n      <td>True</td>\n      <td>True</td>\n      <td>False</td>\n      <td>False</td>\n      <td>True</td>\n      <td>40</td>\n      <td>Ranger Rick Jr.</td>\n      <td>1595.0</td>\n      <td>4.7</td>\n      <td>Magazine Subscriptions</td>\n    </tr>\n    <tr>\n      <th>5</th>\n      <td>B005HNZ5T6</td>\n      <td>11.60</td>\n      <td>13.36</td>\n      <td>US</td>\n      <td>90</td>\n      <td>False</td>\n      <td>False</td>\n      <td>False</td>\n      <td>False</td>\n      <td>False</td>\n      <td>69</td>\n      <td>uni-ball 207 Retractable Gel Pens, Bold Point ...</td>\n      <td>28045.0</td>\n      <td>4.7</td>\n      <td>Office Products</td>\n    </tr>\n  </tbody>\n</table>\n</div>"
     },
     "execution_count": 10,
     "metadata": {},
     "output_type": "execute_result"
    }
   ],
   "source": [
    "# remove NAN\n",
    "df = df.dropna()\n",
    "df.head()"
   ]
  },
  {
   "cell_type": "code",
   "execution_count": 11,
   "id": "7296c199",
   "metadata": {
    "scrolled": true,
    "pycharm": {
     "name": "#%%\n"
    }
   },
   "outputs": [
    {
     "data": {
      "text/plain": "           id  price  discount country  quantity  missOverview  missDiscount  \\\n0  B071FXZBMV   8.99      0.00      US        30         False          True   \n1  B096WLN8XJ  44.00      0.00      US         2          True          True   \n2  B09B2QR6LR  17.90      0.00      US         7          True          True   \n4  B003I7HS5M   0.00      0.00      US         0          True          True   \n5  B005HNZ5T6  11.60     13.36      US        90         False         False   \n\n   missCountry  missQuantity  missPrice  rank  \\\n0        False         False      False    31   \n1        False         False      False    38   \n2        False         False      False    81   \n4        False         False       True    40   \n5        False         False      False    69   \n\n                                                name  ratings_count  rating  \\\n0  OHill Cable Clips,16 Pack Black Adhesive Cord ...        45032.0     4.5   \n1           2021 Topps Series 2 Baseball Blaster Box          203.0     4.7   \n2  2021 Panini Prizm Draft Picks Football CELLO p...           21.0     4.1   \n4                                    Ranger Rick Jr.         1595.0     4.7   \n5  uni-ball 207 Retractable Gel Pens, Bold Point ...        28045.0     4.7   \n\n                 category  label  \n0             Electronics      1  \n1     Sports Collectibles      1  \n2     Sports Collectibles      0  \n4  Magazine Subscriptions      1  \n5         Office Products      0  ",
      "text/html": "<div>\n<style scoped>\n    .dataframe tbody tr th:only-of-type {\n        vertical-align: middle;\n    }\n\n    .dataframe tbody tr th {\n        vertical-align: top;\n    }\n\n    .dataframe thead th {\n        text-align: right;\n    }\n</style>\n<table border=\"1\" class=\"dataframe\">\n  <thead>\n    <tr style=\"text-align: right;\">\n      <th></th>\n      <th>id</th>\n      <th>price</th>\n      <th>discount</th>\n      <th>country</th>\n      <th>quantity</th>\n      <th>missOverview</th>\n      <th>missDiscount</th>\n      <th>missCountry</th>\n      <th>missQuantity</th>\n      <th>missPrice</th>\n      <th>rank</th>\n      <th>name</th>\n      <th>ratings_count</th>\n      <th>rating</th>\n      <th>category</th>\n      <th>label</th>\n    </tr>\n  </thead>\n  <tbody>\n    <tr>\n      <th>0</th>\n      <td>B071FXZBMV</td>\n      <td>8.99</td>\n      <td>0.00</td>\n      <td>US</td>\n      <td>30</td>\n      <td>False</td>\n      <td>True</td>\n      <td>False</td>\n      <td>False</td>\n      <td>False</td>\n      <td>31</td>\n      <td>OHill Cable Clips,16 Pack Black Adhesive Cord ...</td>\n      <td>45032.0</td>\n      <td>4.5</td>\n      <td>Electronics</td>\n      <td>1</td>\n    </tr>\n    <tr>\n      <th>1</th>\n      <td>B096WLN8XJ</td>\n      <td>44.00</td>\n      <td>0.00</td>\n      <td>US</td>\n      <td>2</td>\n      <td>True</td>\n      <td>True</td>\n      <td>False</td>\n      <td>False</td>\n      <td>False</td>\n      <td>38</td>\n      <td>2021 Topps Series 2 Baseball Blaster Box</td>\n      <td>203.0</td>\n      <td>4.7</td>\n      <td>Sports Collectibles</td>\n      <td>1</td>\n    </tr>\n    <tr>\n      <th>2</th>\n      <td>B09B2QR6LR</td>\n      <td>17.90</td>\n      <td>0.00</td>\n      <td>US</td>\n      <td>7</td>\n      <td>True</td>\n      <td>True</td>\n      <td>False</td>\n      <td>False</td>\n      <td>False</td>\n      <td>81</td>\n      <td>2021 Panini Prizm Draft Picks Football CELLO p...</td>\n      <td>21.0</td>\n      <td>4.1</td>\n      <td>Sports Collectibles</td>\n      <td>0</td>\n    </tr>\n    <tr>\n      <th>4</th>\n      <td>B003I7HS5M</td>\n      <td>0.00</td>\n      <td>0.00</td>\n      <td>US</td>\n      <td>0</td>\n      <td>True</td>\n      <td>True</td>\n      <td>False</td>\n      <td>False</td>\n      <td>True</td>\n      <td>40</td>\n      <td>Ranger Rick Jr.</td>\n      <td>1595.0</td>\n      <td>4.7</td>\n      <td>Magazine Subscriptions</td>\n      <td>1</td>\n    </tr>\n    <tr>\n      <th>5</th>\n      <td>B005HNZ5T6</td>\n      <td>11.60</td>\n      <td>13.36</td>\n      <td>US</td>\n      <td>90</td>\n      <td>False</td>\n      <td>False</td>\n      <td>False</td>\n      <td>False</td>\n      <td>False</td>\n      <td>69</td>\n      <td>uni-ball 207 Retractable Gel Pens, Bold Point ...</td>\n      <td>28045.0</td>\n      <td>4.7</td>\n      <td>Office Products</td>\n      <td>0</td>\n    </tr>\n  </tbody>\n</table>\n</div>"
     },
     "execution_count": 11,
     "metadata": {},
     "output_type": "execute_result"
    }
   ],
   "source": [
    "# define top seller: rank < 50\n",
    "df['label'] = 0\n",
    "top_idx = df['rank'] < 50\n",
    "df[top_idx] = df[top_idx].assign(label=1)\n",
    "df.head()"
   ]
  },
  {
   "cell_type": "markdown",
   "id": "b17e447b",
   "metadata": {
    "pycharm": {
     "name": "#%% md\n"
    }
   },
   "source": [
    "# Hypothesis Testing\n",
    "The group must formulate a minimum of three distinct research hypotheses, and test them using a statistical testing method."
   ]
  },
  {
   "cell_type": "code",
   "execution_count": 12,
   "id": "ec512d08",
   "metadata": {
    "pycharm": {
     "name": "#%%\n"
    }
   },
   "outputs": [],
   "source": [
    "import numpy as np\n",
    "import pandas as pd\n",
    "import matplotlib.pyplot as plt\n"
   ]
  },
  {
   "cell_type": "code",
   "execution_count": 13,
   "id": "da304a51",
   "metadata": {
    "scrolled": true,
    "pycharm": {
     "name": "#%%\n"
    }
   },
   "outputs": [
    {
     "name": "stdout",
     "output_type": "stream",
     "text": [
      "['Electronics' 'Sports Collectibles' 'Magazine Subscriptions'\n",
      " 'Office Products' 'Camera & Photo Products' 'Industrial & Scientific'\n",
      " 'Kitchen & Dining' 'Baby']\n"
     ]
    }
   ],
   "source": [
    "# all the categories\n",
    "print(df['category'].unique())"
   ]
  },
  {
   "cell_type": "markdown",
   "id": "94c70eab",
   "metadata": {
    "pycharm": {
     "name": "#%% md\n"
    }
   },
   "source": [
    "## Hypothesis Testing 1"
   ]
  },
  {
   "cell_type": "code",
   "execution_count": 44,
   "id": "e9a1f685",
   "metadata": {
    "scrolled": true,
    "pycharm": {
     "name": "#%%\n"
    }
   },
   "outputs": [
    {
     "data": {
      "text/plain": "<Figure size 432x288 with 1 Axes>",
      "image/png": "[encoded data removed]"
     },
     "metadata": {
      "needs_background": "light"
     },
     "output_type": "display_data"
    }
   ],
   "source": [
    "# Overall\n",
    "plt.hist(df['rating'], bins=10)\n",
    "plt.title(\"Rating distribution for all categories\")\n",
    "plt.xlabel(\"Rating\")\n",
    "plt.ylabel(\"Product Count\")\n",
    "plt.show()"
   ]
  },
  {
   "cell_type": "code",
   "execution_count": 45,
   "id": "27d63a1f",
   "metadata": {
    "scrolled": true,
    "pycharm": {
     "name": "#%%\n"
    }
   },
   "outputs": [
    {
     "data": {
      "text/plain": "<Figure size 432x288 with 1 Axes>",
      "image/png": "[encoded data removed]"
     },
     "metadata": {
      "needs_background": "light"
     },
     "output_type": "display_data"
    }
   ],
   "source": [
    "# 'Baby' distribution\n",
    "plt.hist(df[df['category']=='Baby']['rating'], bins=10)\n",
    "plt.title(\"Rating distribution for Baby categories\")\n",
    "plt.xlabel(\"Rating\")\n",
    "plt.ylabel(\"Product Count\")\n",
    "plt.show()"
   ]
  },
  {
   "cell_type": "markdown",
   "id": "4c592e77",
   "metadata": {
    "pycharm": {
     "name": "#%% md\n"
    }
   },
   "source": [
    "Now we have the hypothesis\n",
    "\n",
    "$H_0$: The ratings of category 'Baby' shows no difference from the ratings of the others.\n",
    "\n",
    "$H_1$: The ratings of category 'Baby' shows a significant difference from the ratings of the others."
   ]
  },
  {
   "cell_type": "code",
   "execution_count": 27,
   "id": "7db26b33",
   "metadata": {
    "pycharm": {
     "name": "#%%\n"
    }
   },
   "outputs": [
    {
     "name": "stdout",
     "output_type": "stream",
     "text": [
      "The test stats is 5.98191204258953\n"
     ]
    }
   ],
   "source": [
    "sample_baby = df[df['category']=='Baby']['rating']\n",
    "baby_mean = np.mean(sample_baby)\n",
    "rating_population = df['rating']\n",
    "population_mean = np.mean(rating_population)\n",
    "n = np.shape(sample_baby)[0]\n",
    "variance = np.var(rating_population)\n",
    "z = (baby_mean - population_mean) / (np.sqrt(variance/(n)))\n",
    "print('The test stats is', z)"
   ]
  },
  {
   "cell_type": "markdown",
   "id": "ac9a5e3b",
   "metadata": {
    "pycharm": {
     "name": "#%% md\n"
    }
   },
   "source": [
    "### Analysis 1\n",
    "We can reject the null hypothesis since $\\alpha = 0.05$, $1 - \\alpha/2 = 0.975$ and the test stats is 5.98191204258953, which is positive and indicates that the rejection region is on the right, so we have the corresponding value in z-table as 1.960, which is less than 5.98191204258953.\n",
    "\n",
    "Therefore, we can say the products which are in the 'Baby' category are of higher quality, these sellers tend to have more quality control in this area compare with the overall rating distribution of all the categories."
   ]
  },
  {
   "cell_type": "markdown",
   "id": "92a20e1a",
   "metadata": {
    "pycharm": {
     "name": "#%% md\n"
    }
   },
   "source": [
    "## Hypothesis Testing 2"
   ]
  },
  {
   "cell_type": "code",
   "execution_count": 36,
   "id": "ea460cb3",
   "metadata": {
    "pycharm": {
     "name": "#%%\n"
    }
   },
   "outputs": [],
   "source": [
    "# Vectorize function\n",
    "length_checker = np.vectorize(len)\n",
    "\n",
    "category_electronics = df[df['category']=='Electronics']\n",
    "elec_top50_name = category_electronics[category_electronics['label']==1]['name']\n",
    "elec_51plus_name = category_electronics[category_electronics['label']==0]['name']\n",
    "\n",
    "# get length of each name\n",
    "top_len = length_checker(elec_top50_name)\n",
    "last_len = length_checker(elec_51plus_name)\n",
    "\n",
    "# print(top_len)\n",
    "# print(last_len)\n"
   ]
  },
  {
   "cell_type": "code",
   "execution_count": 39,
   "id": "4f09e0ad",
   "metadata": {
    "pycharm": {
     "name": "#%%\n"
    }
   },
   "outputs": [
    {
     "data": {
      "text/plain": "<Figure size 432x288 with 1 Axes>",
      "image/png": "[encoded data removed]"
     },
     "metadata": {
      "needs_background": "light"
     },
     "output_type": "display_data"
    }
   ],
   "source": [
    "# Top 50\n",
    "plt.hist(top_len, bins=10)\n",
    "plt.title(\"The word count distribution of the top 50 best-seller in the category\")\n",
    "plt.xlabel(\"Word Count\")\n",
    "plt.ylabel(\"Product Count\")\n",
    "# plt.hist(last_len, bins=10)\n",
    "plt.show()"
   ]
  },
  {
   "cell_type": "code",
   "execution_count": 47,
   "id": "7d8e4182",
   "metadata": {
    "pycharm": {
     "name": "#%%\n"
    }
   },
   "outputs": [
    {
     "data": {
      "text/plain": "<Figure size 432x288 with 1 Axes>",
      "image/png": "[encoded data removed]"
     },
     "metadata": {
      "needs_background": "light"
     },
     "output_type": "display_data"
    }
   ],
   "source": [
    "# 51+\n",
    "plt.hist(last_len, bins=10)\n",
    "plt.title(\"The word count distribution of the rest of products in the category\")\n",
    "plt.xlabel(\"Word Count\")\n",
    "plt.ylabel(\"Product Count\")\n",
    "# plt.hist(last_len, bins=10)\n",
    "plt.show()"
   ]
  },
  {
   "cell_type": "markdown",
   "id": "13996665",
   "metadata": {
    "pycharm": {
     "name": "#%% md\n"
    }
   },
   "source": [
    "Now we have the hypothesis\n",
    "\n",
    "$H_0$: The length of the product title of the electronic category is irrelavant to being best seller.\n",
    "\n",
    "$H_1$: The length of the product title of the electronic category is relavant to being best seller."
   ]
  },
  {
   "cell_type": "code",
   "execution_count": 46,
   "id": "66d18117",
   "metadata": {
    "pycharm": {
     "name": "#%%\n"
    }
   },
   "outputs": [
    {
     "data": {
      "text/plain": [
       "-1.4526947546293916"
      ]
     },
     "execution_count": 46,
     "metadata": {},
     "output_type": "execute_result"
    }
   ],
   "source": [
    "n_top = np.shape(top_len)[0]\n",
    "n_last = np.shape(last_len)[0]\n",
    "t = (np.mean(top_len) - np.mean(last_len)) / (np.sqrt((np.var(top_len))/n_top + (np.var(last_len))/n_last))\n",
    "t"
   ]
  },
  {
   "cell_type": "code",
   "execution_count": 52,
   "id": "77a60fe5",
   "metadata": {
    "pycharm": {
     "name": "#%%\n"
    }
   },
   "outputs": [
    {
     "name": "stdout",
     "output_type": "stream",
     "text": [
      "degrees_of_freedom = 90.999513442532\n"
     ]
    }
   ],
   "source": [
    "v_1 = np.var(top_len)\n",
    "v_2 = np.var(last_len)\n",
    "n_1 = np.shape(top_len)[0]\n",
    "n_2 = np.shape(last_len)[0]\n",
    "\n",
    "nr = ((v_1/n_1) + (v_2/n_2))**2\n",
    "dr = (((v_1/n_1)**2)/(n_1 - 1)) + (((v_2/n_2)**2)/(n_2 - 1))\n",
    "\n",
    "print(\"degrees_of_freedom =\", nr / dr)"
   ]
  },
  {
   "cell_type": "code",
   "execution_count": 53,
   "id": "d0f15b0b",
   "metadata": {
    "pycharm": {
     "name": "#%%\n"
    }
   },
   "outputs": [
    {
     "name": "stdout",
     "output_type": "stream",
     "text": [
      "93\n"
     ]
    }
   ],
   "source": [
    "print(len(top_len)+len(last_len))"
   ]
  },
  {
   "cell_type": "markdown",
   "id": "c7f825c1",
   "metadata": {
    "pycharm": {
     "name": "#%% md\n"
    }
   },
   "source": [
    "### Analysis 2\n",
    "We cannot reject the null hypothesis since degree of freedom is 90.999513442532 and the test stats is -1.4526947546293916, which is negative and indicates that the rejection region is on the left, so we have the corresponding value in t-table as -1.987, which is less than -1.4526947546293916.\n",
    "\n",
    "Therefore, we can say that of 95% chance the length of the name is irrelavant to being the best seller. In other words, how long do the sellers descript the products won't have impact on being best sellers."
   ]
  },
  {
   "cell_type": "markdown",
   "id": "185b3c1b",
   "metadata": {
    "pycharm": {
     "name": "#%% md\n"
    }
   },
   "source": [
    "## Hypothesis Testing 3"
   ]
  },
  {
   "cell_type": "code",
   "execution_count": 148,
   "id": "aff539fb",
   "metadata": {
    "pycharm": {
     "name": "#%%\n"
    }
   },
   "outputs": [],
   "source": [
    "top50_name = df[df['label']==1].iloc[:, [14,12]].groupby('category').sum()\n",
    "overall_name = df.iloc[:, [14,12]].groupby('category').sum()\n",
    "\n",
    "# print(top50_name[0, :])\n",
    "# print(top50_name['category'])\n",
    "# top50_name.groupby('category').sum()\n"
   ]
  },
  {
   "cell_type": "code",
   "execution_count": 149,
   "id": "7e5653c4",
   "metadata": {
    "scrolled": true,
    "pycharm": {
     "name": "#%%\n"
    }
   },
   "outputs": [
    {
     "data": {
      "text/html": [
       "<div>\n",
       "<style scoped>\n",
       "    .dataframe tbody tr th:only-of-type {\n",
       "        vertical-align: middle;\n",
       "    }\n",
       "\n",
       "    .dataframe tbody tr th {\n",
       "        vertical-align: top;\n",
       "    }\n",
       "\n",
       "    .dataframe thead th {\n",
       "        text-align: right;\n",
       "    }\n",
       "</style>\n",
       "<table border=\"1\" class=\"dataframe\">\n",
       "  <thead>\n",
       "    <tr style=\"text-align: right;\">\n",
       "      <th></th>\n",
       "      <th>ratings_count</th>\n",
       "    </tr>\n",
       "    <tr>\n",
       "      <th>category</th>\n",
       "      <th></th>\n",
       "    </tr>\n",
       "  </thead>\n",
       "  <tbody>\n",
       "    <tr>\n",
       "      <th>Baby</th>\n",
       "      <td>1468092.0</td>\n",
       "    </tr>\n",
       "    <tr>\n",
       "      <th>Camera &amp; Photo Products</th>\n",
       "      <td>397632.0</td>\n",
       "    </tr>\n",
       "    <tr>\n",
       "      <th>Electronics</th>\n",
       "      <td>4368936.0</td>\n",
       "    </tr>\n",
       "    <tr>\n",
       "      <th>Industrial &amp; Scientific</th>\n",
       "      <td>1173969.0</td>\n",
       "    </tr>\n",
       "    <tr>\n",
       "      <th>Kitchen &amp; Dining</th>\n",
       "      <td>1954847.0</td>\n",
       "    </tr>\n",
       "    <tr>\n",
       "      <th>Magazine Subscriptions</th>\n",
       "      <td>354759.0</td>\n",
       "    </tr>\n",
       "    <tr>\n",
       "      <th>Office Products</th>\n",
       "      <td>1897105.0</td>\n",
       "    </tr>\n",
       "    <tr>\n",
       "      <th>Sports Collectibles</th>\n",
       "      <td>14338.0</td>\n",
       "    </tr>\n",
       "  </tbody>\n",
       "</table>\n",
       "</div>"
      ],
      "text/plain": [
       "                         ratings_count\n",
       "category                              \n",
       "Baby                         1468092.0\n",
       "Camera & Photo Products       397632.0\n",
       "Electronics                  4368936.0\n",
       "Industrial & Scientific      1173969.0\n",
       "Kitchen & Dining             1954847.0\n",
       "Magazine Subscriptions        354759.0\n",
       "Office Products              1897105.0\n",
       "Sports Collectibles            14338.0"
      ]
     },
     "execution_count": 149,
     "metadata": {},
     "output_type": "execute_result"
    }
   ],
   "source": [
    "top50_name"
   ]
  },
  {
   "cell_type": "code",
   "execution_count": 151,
   "id": "ac029219",
   "metadata": {
    "pycharm": {
     "name": "#%%\n"
    }
   },
   "outputs": [
    {
     "data": {
      "text/html": [
       "<div>\n",
       "<style scoped>\n",
       "    .dataframe tbody tr th:only-of-type {\n",
       "        vertical-align: middle;\n",
       "    }\n",
       "\n",
       "    .dataframe tbody tr th {\n",
       "        vertical-align: top;\n",
       "    }\n",
       "\n",
       "    .dataframe thead th {\n",
       "        text-align: right;\n",
       "    }\n",
       "</style>\n",
       "<table border=\"1\" class=\"dataframe\">\n",
       "  <thead>\n",
       "    <tr style=\"text-align: right;\">\n",
       "      <th></th>\n",
       "      <th>ratings_count</th>\n",
       "    </tr>\n",
       "    <tr>\n",
       "      <th>category</th>\n",
       "      <th></th>\n",
       "    </tr>\n",
       "  </thead>\n",
       "  <tbody>\n",
       "    <tr>\n",
       "      <th>Baby</th>\n",
       "      <td>2412915.0</td>\n",
       "    </tr>\n",
       "    <tr>\n",
       "      <th>Camera &amp; Photo Products</th>\n",
       "      <td>727130.0</td>\n",
       "    </tr>\n",
       "    <tr>\n",
       "      <th>Electronics</th>\n",
       "      <td>6005474.0</td>\n",
       "    </tr>\n",
       "    <tr>\n",
       "      <th>Industrial &amp; Scientific</th>\n",
       "      <td>1994542.0</td>\n",
       "    </tr>\n",
       "    <tr>\n",
       "      <th>Kitchen &amp; Dining</th>\n",
       "      <td>3269180.0</td>\n",
       "    </tr>\n",
       "    <tr>\n",
       "      <th>Magazine Subscriptions</th>\n",
       "      <td>504523.0</td>\n",
       "    </tr>\n",
       "    <tr>\n",
       "      <th>Office Products</th>\n",
       "      <td>3005608.0</td>\n",
       "    </tr>\n",
       "    <tr>\n",
       "      <th>Sports Collectibles</th>\n",
       "      <td>19801.0</td>\n",
       "    </tr>\n",
       "  </tbody>\n",
       "</table>\n",
       "</div>"
      ],
      "text/plain": [
       "                         ratings_count\n",
       "category                              \n",
       "Baby                         2412915.0\n",
       "Camera & Photo Products       727130.0\n",
       "Electronics                  6005474.0\n",
       "Industrial & Scientific      1994542.0\n",
       "Kitchen & Dining             3269180.0\n",
       "Magazine Subscriptions        504523.0\n",
       "Office Products              3005608.0\n",
       "Sports Collectibles            19801.0"
      ]
     },
     "execution_count": 151,
     "metadata": {},
     "output_type": "execute_result"
    }
   ],
   "source": [
    "overall_name"
   ]
  },
  {
   "cell_type": "code",
   "execution_count": 152,
   "id": "782f2085",
   "metadata": {
    "pycharm": {
     "name": "#%%\n"
    }
   },
   "outputs": [
    {
     "data": {
      "text/html": [
       "<div>\n",
       "<style scoped>\n",
       "    .dataframe tbody tr th:only-of-type {\n",
       "        vertical-align: middle;\n",
       "    }\n",
       "\n",
       "    .dataframe tbody tr th {\n",
       "        vertical-align: top;\n",
       "    }\n",
       "\n",
       "    .dataframe thead th {\n",
       "        text-align: right;\n",
       "    }\n",
       "</style>\n",
       "<table border=\"1\" class=\"dataframe\">\n",
       "  <thead>\n",
       "    <tr style=\"text-align: right;\">\n",
       "      <th></th>\n",
       "      <th>ratings_count</th>\n",
       "    </tr>\n",
       "    <tr>\n",
       "      <th>category</th>\n",
       "      <th></th>\n",
       "    </tr>\n",
       "  </thead>\n",
       "  <tbody>\n",
       "    <tr>\n",
       "      <th>Baby</th>\n",
       "      <td>0.608431</td>\n",
       "    </tr>\n",
       "    <tr>\n",
       "      <th>Camera &amp; Photo Products</th>\n",
       "      <td>0.546851</td>\n",
       "    </tr>\n",
       "    <tr>\n",
       "      <th>Electronics</th>\n",
       "      <td>0.727492</td>\n",
       "    </tr>\n",
       "    <tr>\n",
       "      <th>Industrial &amp; Scientific</th>\n",
       "      <td>0.588591</td>\n",
       "    </tr>\n",
       "    <tr>\n",
       "      <th>Kitchen &amp; Dining</th>\n",
       "      <td>0.597962</td>\n",
       "    </tr>\n",
       "    <tr>\n",
       "      <th>Magazine Subscriptions</th>\n",
       "      <td>0.703157</td>\n",
       "    </tr>\n",
       "    <tr>\n",
       "      <th>Office Products</th>\n",
       "      <td>0.631188</td>\n",
       "    </tr>\n",
       "    <tr>\n",
       "      <th>Sports Collectibles</th>\n",
       "      <td>0.724105</td>\n",
       "    </tr>\n",
       "  </tbody>\n",
       "</table>\n",
       "</div>"
      ],
      "text/plain": [
       "                         ratings_count\n",
       "category                              \n",
       "Baby                          0.608431\n",
       "Camera & Photo Products       0.546851\n",
       "Electronics                   0.727492\n",
       "Industrial & Scientific       0.588591\n",
       "Kitchen & Dining              0.597962\n",
       "Magazine Subscriptions        0.703157\n",
       "Office Products               0.631188\n",
       "Sports Collectibles           0.724105"
      ]
     },
     "execution_count": 152,
     "metadata": {},
     "output_type": "execute_result"
    }
   ],
   "source": [
    "top50_name / overall_name"
   ]
  },
  {
   "cell_type": "markdown",
   "id": "af0e00db",
   "metadata": {
    "pycharm": {
     "name": "#%% md\n"
    }
   },
   "source": [
    "From the tables above we can see that the ratios in different categories vary. Therefore, we can have the hypothesis below.\n",
    "\n",
    "$H_0$: The number of rating count and being a best seller are independent.\n",
    "\n",
    "$H_1$: There is an association between the number of rating count and being a best seller."
   ]
  },
  {
   "cell_type": "code",
   "execution_count": 128,
   "id": "24616906",
   "metadata": {
    "pycharm": {
     "name": "#%%\n"
    }
   },
   "outputs": [
    {
     "name": "stdout",
     "output_type": "stream",
     "text": [
      "ratings_count    2.286039e+06\n",
      "dtype: float64\n"
     ]
    }
   ],
   "source": [
    "obs = top50_name\n",
    "pop_ratios = overall_name/len(overall_name)\n",
    "# expected counts\n",
    "exp = pop_ratios * len(top50_name)   \n",
    "chi_squared_stat = (((obs-exp)**2)/exp).sum()\n",
    "print(chi_squared_stat)"
   ]
  },
  {
   "cell_type": "markdown",
   "id": "09f79598",
   "metadata": {
    "pycharm": {
     "name": "#%% md\n"
    }
   },
   "source": [
    "### Analysis 3\n",
    "We can reject the null hypothesis since according to the [chi-square table]( https://people.richland.edu/james/lecture/m170/tbl-chi.htmlsince), $\\alpha = 0.05$ and the number of category is 8, which means that $df = 7$, we have the critical value is 14.067, and this value is less than the chi_square stats.\n",
    "\n",
    "Actually even when $\\alpha = 0.005$, the critical value is 20.278, which is still less than the stats, so we can say that it is of 99.5% chance that there is an association between the number of rating count and being a best seller."
   ]
  }
 ],
 "metadata": {
  "kernelspec": {
   "display_name": "Python 3 (ipykernel)",
   "language": "python",
   "name": "python3"
  },
  "language_info": {
   "codemirror_mode": {
    "name": "ipython",
    "version": 3
   },
   "file_extension": ".py",
   "mimetype": "text/x-python",
   "name": "python",
   "nbconvert_exporter": "python",
   "pygments_lexer": "ipython3",
   "version": "3.9.7"
  }
 },
 "nbformat": 4,
 "nbformat_minor": 5
}