{
 "cells": [
  {
   "cell_type": "code",
   "execution_count": 1,
   "id": "2ec6d2eb",
   "metadata": {
    "pycharm": {
     "name": "#%%\n"
    }
   },
   "outputs": [],
   "source": [
    "import os\n",
    "import pandas as pd\n",
    "import numpy as np\n",
    "import json\n",
    "from sklearn import preprocessing\n",
    "from sklearn.model_selection import train_test_split\n",
    "import numpy as np\n",
    "from sklearn.model_selection import KFold, RepeatedKFold, GridSearchCV, cross_val_score\n",
    "from sklearn.linear_model import LogisticRegression"
   ]
  },
  {
   "cell_type": "markdown",
   "id": "e697f7e9",
   "metadata": {
    "pycharm": {
     "name": "#%% md\n"
    }
   },
   "source": [
    "# Data Processing"
   ]
  },
  {
   "cell_type": "code",
   "execution_count": 2,
   "id": "2bcd9d8a",
   "metadata": {
    "pycharm": {
     "name": "#%%\n"
    }
   },
   "outputs": [
    {
     "name": "stdout",
     "output_type": "stream",
     "text": [
      "Product Detail Dir: ['B071FXZBMV.json', 'B096WLN8XJ.json', 'B09B2QR6LR.json', 'B09T3P7MJ9.json', 'B003I7HS5M.json']\n",
      "Best Seller Dir: ['industrial_2.json', 'magazines_2.json', 'musical_2.json', 'sports_2.json', 'electronics_1.json']\n"
     ]
    }
   ],
   "source": [
    "DATA_ROOT = \"../data\"\n",
    "PRODUCT_PATH = os.path.join(DATA_ROOT, 'product_detail/json')\n",
    "BS_PATH = os.path.join(DATA_ROOT, 'bestseller/bsData')\n",
    "\n",
    "print(f'Product Detail Dir: {os.listdir(PRODUCT_PATH)[0:5]}')\n",
    "print(f'Best Seller Dir: {os.listdir(BS_PATH)[0:5]}')"
   ]
  },
  {
   "cell_type": "markdown",
   "id": "659150d0",
   "metadata": {
    "pycharm": {
     "name": "#%% md\n"
    }
   },
   "source": [
    "## Product Detail Data"
   ]
  },
  {
   "cell_type": "code",
   "execution_count": 3,
   "id": "7bb1b703",
   "metadata": {
    "pycharm": {
     "name": "#%%\n"
    }
   },
   "outputs": [],
   "source": [
    "product_rows = []\n",
    "product_overview = {}\n",
    "for filename in os.listdir(PRODUCT_PATH):\n",
    "    with open(f'{PRODUCT_PATH}/{filename}', 'r') as f:\n",
    "        product = json.load(f)\n",
    "        id_, overview = product['id'], product['overview']\n",
    "        product_overview[id_] = overview\n",
    "        # remove overview from the product dict\n",
    "        product.pop('overview')\n",
    "        # title is the same as id\n",
    "        product.pop('title')\n",
    "        # store product in a pandas dataframe\n",
    "        product_rows.append(product)        \n"
   ]
  },
  {
   "cell_type": "code",
   "execution_count": 4,
   "id": "2efbc8a0",
   "metadata": {
    "pycharm": {
     "name": "#%%\n"
    }
   },
   "outputs": [
    {
     "name": "stdout",
     "output_type": "stream",
     "text": [
      "column data type:\n",
      " id               object\n",
      "price           float64\n",
      "discount        float64\n",
      "country          object\n",
      "quantity          int64\n",
      "missOverview       bool\n",
      "missDiscount       bool\n",
      "missCountry        bool\n",
      "missQuantity       bool\n",
      "missPrice          bool\n",
      "dtype: object\n",
      "number of rows:  786\n",
      "number of unique id:  786\n"
     ]
    },
    {
     "data": {
      "text/html": [
       "<div>\n",
       "<style scoped>\n",
       "    .dataframe tbody tr th:only-of-type {\n",
       "        vertical-align: middle;\n",
       "    }\n",
       "\n",
       "    .dataframe tbody tr th {\n",
       "        vertical-align: top;\n",
       "    }\n",
       "\n",
       "    .dataframe thead th {\n",
       "        text-align: right;\n",
       "    }\n",
       "</style>\n",
       "<table border=\"1\" class=\"dataframe\">\n",
       "  <thead>\n",
       "    <tr style=\"text-align: right;\">\n",
       "      <th></th>\n",
       "      <th>id</th>\n",
       "      <th>price</th>\n",
       "      <th>discount</th>\n",
       "      <th>country</th>\n",
       "      <th>quantity</th>\n",
       "      <th>missOverview</th>\n",
       "      <th>missDiscount</th>\n",
       "      <th>missCountry</th>\n",
       "      <th>missQuantity</th>\n",
       "      <th>missPrice</th>\n",
       "    </tr>\n",
       "  </thead>\n",
       "  <tbody>\n",
       "    <tr>\n",
       "      <th>0</th>\n",
       "      <td>B071FXZBMV</td>\n",
       "      <td>8.99</td>\n",
       "      <td>0.0</td>\n",
       "      <td>US</td>\n",
       "      <td>30</td>\n",
       "      <td>False</td>\n",
       "      <td>True</td>\n",
       "      <td>False</td>\n",
       "      <td>False</td>\n",
       "      <td>False</td>\n",
       "    </tr>\n",
       "    <tr>\n",
       "      <th>1</th>\n",
       "      <td>B096WLN8XJ</td>\n",
       "      <td>44.00</td>\n",
       "      <td>0.0</td>\n",
       "      <td>US</td>\n",
       "      <td>2</td>\n",
       "      <td>True</td>\n",
       "      <td>True</td>\n",
       "      <td>False</td>\n",
       "      <td>False</td>\n",
       "      <td>False</td>\n",
       "    </tr>\n",
       "    <tr>\n",
       "      <th>2</th>\n",
       "      <td>B09B2QR6LR</td>\n",
       "      <td>17.90</td>\n",
       "      <td>0.0</td>\n",
       "      <td>US</td>\n",
       "      <td>7</td>\n",
       "      <td>True</td>\n",
       "      <td>True</td>\n",
       "      <td>False</td>\n",
       "      <td>False</td>\n",
       "      <td>False</td>\n",
       "    </tr>\n",
       "    <tr>\n",
       "      <th>3</th>\n",
       "      <td>B09T3P7MJ9</td>\n",
       "      <td>16.25</td>\n",
       "      <td>0.0</td>\n",
       "      <td>US</td>\n",
       "      <td>13</td>\n",
       "      <td>False</td>\n",
       "      <td>True</td>\n",
       "      <td>False</td>\n",
       "      <td>False</td>\n",
       "      <td>False</td>\n",
       "    </tr>\n",
       "    <tr>\n",
       "      <th>4</th>\n",
       "      <td>B003I7HS5M</td>\n",
       "      <td>0.00</td>\n",
       "      <td>0.0</td>\n",
       "      <td>US</td>\n",
       "      <td>0</td>\n",
       "      <td>True</td>\n",
       "      <td>True</td>\n",
       "      <td>False</td>\n",
       "      <td>False</td>\n",
       "      <td>True</td>\n",
       "    </tr>\n",
       "  </tbody>\n",
       "</table>\n",
       "</div>"
      ],
      "text/plain": [
       "           id  price  discount country  quantity  missOverview  missDiscount  \\\n",
       "0  B071FXZBMV   8.99       0.0      US        30         False          True   \n",
       "1  B096WLN8XJ  44.00       0.0      US         2          True          True   \n",
       "2  B09B2QR6LR  17.90       0.0      US         7          True          True   \n",
       "3  B09T3P7MJ9  16.25       0.0      US        13         False          True   \n",
       "4  B003I7HS5M   0.00       0.0      US         0          True          True   \n",
       "\n",
       "   missCountry  missQuantity  missPrice  \n",
       "0        False         False      False  \n",
       "1        False         False      False  \n",
       "2        False         False      False  \n",
       "3        False         False      False  \n",
       "4        False         False       True  "
      ]
     },
     "execution_count": 4,
     "metadata": {},
     "output_type": "execute_result"
    }
   ],
   "source": [
    "df_prod = pd.DataFrame(product_rows)\n",
    "print('column data type:\\n', df_prod.dtypes)\n",
    "\n",
    "print('number of rows: ', len(df_prod))\n",
    "print('number of unique id: ', len(df_prod['id'].unique()))\n",
    "# Primary Key\n",
    "assert len(df_prod) == len(df_prod['id'].unique())\n",
    "\n",
    "df_prod.head()"
   ]
  },
  {
   "cell_type": "code",
   "execution_count": 5,
   "id": "660d7f8d",
   "metadata": {
    "pycharm": {
     "name": "#%%\n"
    }
   },
   "outputs": [
    {
     "data": {
      "text/plain": [
       "{'_Color_': 'Black',\n",
       " '_Brand_': 'OHill',\n",
       " '_Item_Weight_': '0.15 Pounds',\n",
       " '_Binding_': 'Unknown Binding'}"
      ]
     },
     "execution_count": 5,
     "metadata": {},
     "output_type": "execute_result"
    }
   ],
   "source": [
    "product_overview['B071FXZBMV']"
   ]
  },
  {
   "cell_type": "markdown",
   "id": "623332cf",
   "metadata": {
    "pycharm": {
     "name": "#%% md\n"
    }
   },
   "source": [
    "## Best Seller Data"
   ]
  },
  {
   "cell_type": "code",
   "execution_count": 6,
   "id": "c79157ae",
   "metadata": {
    "pycharm": {
     "name": "#%%\n"
    }
   },
   "outputs": [],
   "source": [
    "bs_rows = []\n",
    "bs_overview = {}\n",
    "for filename in os.listdir(BS_PATH):\n",
    "    with open(f'{BS_PATH}/{filename}', 'r') as f:\n",
    "        bs = json.load(f)\n",
    "        # remove child_categories, next and url from the list\n",
    "        bs.pop('child_categories')\n",
    "        bs.pop('next')\n",
    "        bs.pop('url')\n",
    "        # now only category and product_listings left\n",
    "        _category, _product_listings = bs['category'], bs['product_listings']\n",
    "        for product_listing in _product_listings:\n",
    "            _id, _rank, _name, _ratings_count, _rating = product_listing['asin'], product_listing['rank'], product_listing['name'], product_listing[\n",
    "                'ratings_count'], product_listing['rating']\n",
    "            if _id == None:\n",
    "                continue\n",
    "            temp = [_id, _rank, _name, _ratings_count, _rating, _category]\n",
    "            bs_rows.append(temp)\n"
   ]
  },
  {
   "cell_type": "code",
   "execution_count": 7,
   "id": "38bc954b",
   "metadata": {
    "pycharm": {
     "name": "#%%\n"
    }
   },
   "outputs": [
    {
     "name": "stdout",
     "output_type": "stream",
     "text": [
      "column data type:\n",
      " id                object\n",
      "rank               int64\n",
      "name              object\n",
      "ratings_count    float64\n",
      "rating           float64\n",
      "category          object\n",
      "dtype: object\n"
     ]
    },
    {
     "data": {
      "text/html": [
       "<div>\n",
       "<style scoped>\n",
       "    .dataframe tbody tr th:only-of-type {\n",
       "        vertical-align: middle;\n",
       "    }\n",
       "\n",
       "    .dataframe tbody tr th {\n",
       "        vertical-align: top;\n",
       "    }\n",
       "\n",
       "    .dataframe thead th {\n",
       "        text-align: right;\n",
       "    }\n",
       "</style>\n",
       "<table border=\"1\" class=\"dataframe\">\n",
       "  <thead>\n",
       "    <tr style=\"text-align: right;\">\n",
       "      <th></th>\n",
       "      <th>id</th>\n",
       "      <th>rank</th>\n",
       "      <th>name</th>\n",
       "      <th>ratings_count</th>\n",
       "      <th>rating</th>\n",
       "      <th>category</th>\n",
       "    </tr>\n",
       "  </thead>\n",
       "  <tbody>\n",
       "    <tr>\n",
       "      <th>397</th>\n",
       "      <td>B079V67BFW</td>\n",
       "      <td>1</td>\n",
       "      <td>Pampers Choose Your Count, Sensitive Water Bas...</td>\n",
       "      <td>42199.0</td>\n",
       "      <td>4.8</td>\n",
       "      <td>Baby</td>\n",
       "    </tr>\n",
       "    <tr>\n",
       "      <th>398</th>\n",
       "      <td>B07SVHLGV8</td>\n",
       "      <td>2</td>\n",
       "      <td>Diapers Newborn/Size 0 (&lt; 10 lb), 140 Count - ...</td>\n",
       "      <td>54499.0</td>\n",
       "      <td>4.8</td>\n",
       "      <td>Baby</td>\n",
       "    </tr>\n",
       "    <tr>\n",
       "      <th>399</th>\n",
       "      <td>B07MB5RY9N</td>\n",
       "      <td>3</td>\n",
       "      <td>Baby Wipes, Huggies Natural Care Sensitive Bab...</td>\n",
       "      <td>70559.0</td>\n",
       "      <td>4.8</td>\n",
       "      <td>Baby</td>\n",
       "    </tr>\n",
       "    <tr>\n",
       "      <th>400</th>\n",
       "      <td>B0779Z53SD</td>\n",
       "      <td>4</td>\n",
       "      <td>WaterWipes Original Baby Wipes, 99.9% Water, U...</td>\n",
       "      <td>1408.0</td>\n",
       "      <td>4.8</td>\n",
       "      <td>Baby</td>\n",
       "    </tr>\n",
       "    <tr>\n",
       "      <th>401</th>\n",
       "      <td>B08QRKY3NJ</td>\n",
       "      <td>5</td>\n",
       "      <td>Baby Wipes, Unscented, Huggies Simply Clean Fr...</td>\n",
       "      <td>18881.0</td>\n",
       "      <td>4.8</td>\n",
       "      <td>Baby</td>\n",
       "    </tr>\n",
       "  </tbody>\n",
       "</table>\n",
       "</div>"
      ],
      "text/plain": [
       "             id  rank                                               name  \\\n",
       "397  B079V67BFW     1  Pampers Choose Your Count, Sensitive Water Bas...   \n",
       "398  B07SVHLGV8     2  Diapers Newborn/Size 0 (< 10 lb), 140 Count - ...   \n",
       "399  B07MB5RY9N     3  Baby Wipes, Huggies Natural Care Sensitive Bab...   \n",
       "400  B0779Z53SD     4  WaterWipes Original Baby Wipes, 99.9% Water, U...   \n",
       "401  B08QRKY3NJ     5  Baby Wipes, Unscented, Huggies Simply Clean Fr...   \n",
       "\n",
       "     ratings_count  rating category  \n",
       "397        42199.0     4.8     Baby  \n",
       "398        54499.0     4.8     Baby  \n",
       "399        70559.0     4.8     Baby  \n",
       "400         1408.0     4.8     Baby  \n",
       "401        18881.0     4.8     Baby  "
      ]
     },
     "execution_count": 7,
     "metadata": {},
     "output_type": "execute_result"
    }
   ],
   "source": [
    "df_bs = pd.DataFrame(bs_rows)\n",
    "df_bs.columns = ['id', 'rank', 'name', 'ratings_count', 'rating', 'category']\n",
    "\n",
    "# convert data type\n",
    "df_bs['rating'] = df_bs['rating'].astype(float)\n",
    "df_bs['ratings_count'] = df_bs['ratings_count'].astype(float)\n",
    "print('column data type:\\n', df_bs.dtypes)\n",
    "\n",
    "# sort data \n",
    "df_bs = df_bs.sort_values(by=['category', 'rank'])\n",
    "df_bs.head()"
   ]
  },
  {
   "cell_type": "code",
   "execution_count": 8,
   "id": "c9d23ef0",
   "metadata": {
    "pycharm": {
     "name": "#%%\n"
    }
   },
   "outputs": [
    {
     "name": "stdout",
     "output_type": "stream",
     "text": [
      "number of rows:  994\n",
      "number of unique id:  986\n",
      "Duplicated Rows:\n",
      "number of rows:  986\n",
      "number of unique id:  986\n"
     ]
    }
   ],
   "source": [
    "print('number of rows: ', len(df_bs))\n",
    "print('number of unique id: ', len(df_bs['id'].unique()))\n",
    "# print duplicate data\n",
    "mask = df_bs['id'].duplicated(keep=False)\n",
    "print('Duplicated Rows:')\n",
    "df_bs[mask].sort_values('id')\n",
    "# Drop duplicate\n",
    "df_bs = df_bs.drop_duplicates(subset=['id'], keep='first')\n",
    "print('number of rows: ', len(df_bs))\n",
    "print('number of unique id: ', len(df_bs['id'].unique()))\n",
    "assert len(df_bs['id']) == len(df_bs['id'].unique())"
   ]
  },
  {
   "cell_type": "markdown",
   "id": "3b82ab75",
   "metadata": {
    "pycharm": {
     "name": "#%% md\n"
    }
   },
   "source": [
    "## Join two tables & Define top seller"
   ]
  },
  {
   "cell_type": "code",
   "execution_count": 9,
   "id": "2ea0c698",
   "metadata": {
    "pycharm": {
     "name": "#%%\n"
    }
   },
   "outputs": [
    {
     "data": {
      "text/html": [
       "<div>\n",
       "<style scoped>\n",
       "    .dataframe tbody tr th:only-of-type {\n",
       "        vertical-align: middle;\n",
       "    }\n",
       "\n",
       "    .dataframe tbody tr th {\n",
       "        vertical-align: top;\n",
       "    }\n",
       "\n",
       "    .dataframe thead th {\n",
       "        text-align: right;\n",
       "    }\n",
       "</style>\n",
       "<table border=\"1\" class=\"dataframe\">\n",
       "  <thead>\n",
       "    <tr style=\"text-align: right;\">\n",
       "      <th></th>\n",
       "      <th>id</th>\n",
       "      <th>price</th>\n",
       "      <th>discount</th>\n",
       "      <th>country</th>\n",
       "      <th>quantity</th>\n",
       "      <th>missOverview</th>\n",
       "      <th>missDiscount</th>\n",
       "      <th>missCountry</th>\n",
       "      <th>missQuantity</th>\n",
       "      <th>missPrice</th>\n",
       "      <th>rank</th>\n",
       "      <th>name</th>\n",
       "      <th>ratings_count</th>\n",
       "      <th>rating</th>\n",
       "      <th>category</th>\n",
       "    </tr>\n",
       "  </thead>\n",
       "  <tbody>\n",
       "    <tr>\n",
       "      <th>0</th>\n",
       "      <td>B071FXZBMV</td>\n",
       "      <td>8.99</td>\n",
       "      <td>0.0</td>\n",
       "      <td>US</td>\n",
       "      <td>30</td>\n",
       "      <td>False</td>\n",
       "      <td>True</td>\n",
       "      <td>False</td>\n",
       "      <td>False</td>\n",
       "      <td>False</td>\n",
       "      <td>31</td>\n",
       "      <td>OHill Cable Clips,16 Pack Black Adhesive Cord ...</td>\n",
       "      <td>45032.0</td>\n",
       "      <td>4.5</td>\n",
       "      <td>Electronics</td>\n",
       "    </tr>\n",
       "    <tr>\n",
       "      <th>1</th>\n",
       "      <td>B096WLN8XJ</td>\n",
       "      <td>44.00</td>\n",
       "      <td>0.0</td>\n",
       "      <td>US</td>\n",
       "      <td>2</td>\n",
       "      <td>True</td>\n",
       "      <td>True</td>\n",
       "      <td>False</td>\n",
       "      <td>False</td>\n",
       "      <td>False</td>\n",
       "      <td>38</td>\n",
       "      <td>2021 Topps Series 2 Baseball Blaster Box</td>\n",
       "      <td>203.0</td>\n",
       "      <td>4.7</td>\n",
       "      <td>Sports Collectibles</td>\n",
       "    </tr>\n",
       "    <tr>\n",
       "      <th>2</th>\n",
       "      <td>B09B2QR6LR</td>\n",
       "      <td>17.90</td>\n",
       "      <td>0.0</td>\n",
       "      <td>US</td>\n",
       "      <td>7</td>\n",
       "      <td>True</td>\n",
       "      <td>True</td>\n",
       "      <td>False</td>\n",
       "      <td>False</td>\n",
       "      <td>False</td>\n",
       "      <td>81</td>\n",
       "      <td>2021 Panini Prizm Draft Picks Football CELLO p...</td>\n",
       "      <td>21.0</td>\n",
       "      <td>4.1</td>\n",
       "      <td>Sports Collectibles</td>\n",
       "    </tr>\n",
       "    <tr>\n",
       "      <th>3</th>\n",
       "      <td>B09T3P7MJ9</td>\n",
       "      <td>16.25</td>\n",
       "      <td>0.0</td>\n",
       "      <td>US</td>\n",
       "      <td>13</td>\n",
       "      <td>False</td>\n",
       "      <td>True</td>\n",
       "      <td>False</td>\n",
       "      <td>False</td>\n",
       "      <td>False</td>\n",
       "      <td>7</td>\n",
       "      <td>Kitchens Slow Cooker Liners, Regular (Fits 3-8...</td>\n",
       "      <td>NaN</td>\n",
       "      <td>NaN</td>\n",
       "      <td>Kitchen &amp; Dining</td>\n",
       "    </tr>\n",
       "    <tr>\n",
       "      <th>4</th>\n",
       "      <td>B003I7HS5M</td>\n",
       "      <td>0.00</td>\n",
       "      <td>0.0</td>\n",
       "      <td>US</td>\n",
       "      <td>0</td>\n",
       "      <td>True</td>\n",
       "      <td>True</td>\n",
       "      <td>False</td>\n",
       "      <td>False</td>\n",
       "      <td>True</td>\n",
       "      <td>40</td>\n",
       "      <td>Ranger Rick Jr.</td>\n",
       "      <td>1595.0</td>\n",
       "      <td>4.7</td>\n",
       "      <td>Magazine Subscriptions</td>\n",
       "    </tr>\n",
       "  </tbody>\n",
       "</table>\n",
       "</div>"
      ],
      "text/plain": [
       "           id  price  discount country  quantity  missOverview  missDiscount  \\\n",
       "0  B071FXZBMV   8.99       0.0      US        30         False          True   \n",
       "1  B096WLN8XJ  44.00       0.0      US         2          True          True   \n",
       "2  B09B2QR6LR  17.90       0.0      US         7          True          True   \n",
       "3  B09T3P7MJ9  16.25       0.0      US        13         False          True   \n",
       "4  B003I7HS5M   0.00       0.0      US         0          True          True   \n",
       "\n",
       "   missCountry  missQuantity  missPrice  rank  \\\n",
       "0        False         False      False    31   \n",
       "1        False         False      False    38   \n",
       "2        False         False      False    81   \n",
       "3        False         False      False     7   \n",
       "4        False         False       True    40   \n",
       "\n",
       "                                                name  ratings_count  rating  \\\n",
       "0  OHill Cable Clips,16 Pack Black Adhesive Cord ...        45032.0     4.5   \n",
       "1           2021 Topps Series 2 Baseball Blaster Box          203.0     4.7   \n",
       "2  2021 Panini Prizm Draft Picks Football CELLO p...           21.0     4.1   \n",
       "3  Kitchens Slow Cooker Liners, Regular (Fits 3-8...            NaN     NaN   \n",
       "4                                    Ranger Rick Jr.         1595.0     4.7   \n",
       "\n",
       "                 category  \n",
       "0             Electronics  \n",
       "1     Sports Collectibles  \n",
       "2     Sports Collectibles  \n",
       "3        Kitchen & Dining  \n",
       "4  Magazine Subscriptions  "
      ]
     },
     "execution_count": 9,
     "metadata": {},
     "output_type": "execute_result"
    }
   ],
   "source": [
    "# join product and bestseller table\n",
    "df = pd.merge(df_prod, df_bs, on=\"id\")\n",
    "df.head()"
   ]
  },
  {
   "cell_type": "code",
   "execution_count": 10,
   "id": "34bdc877",
   "metadata": {
    "pycharm": {
     "name": "#%%\n"
    }
   },
   "outputs": [
    {
     "data": {
      "text/html": [
       "<div>\n",
       "<style scoped>\n",
       "    .dataframe tbody tr th:only-of-type {\n",
       "        vertical-align: middle;\n",
       "    }\n",
       "\n",
       "    .dataframe tbody tr th {\n",
       "        vertical-align: top;\n",
       "    }\n",
       "\n",
       "    .dataframe thead th {\n",
       "        text-align: right;\n",
       "    }\n",
       "</style>\n",
       "<table border=\"1\" class=\"dataframe\">\n",
       "  <thead>\n",
       "    <tr style=\"text-align: right;\">\n",
       "      <th></th>\n",
       "      <th>id</th>\n",
       "      <th>price</th>\n",
       "      <th>discount</th>\n",
       "      <th>country</th>\n",
       "      <th>quantity</th>\n",
       "      <th>missOverview</th>\n",
       "      <th>missDiscount</th>\n",
       "      <th>missCountry</th>\n",
       "      <th>missQuantity</th>\n",
       "      <th>missPrice</th>\n",
       "      <th>rank</th>\n",
       "      <th>name</th>\n",
       "      <th>ratings_count</th>\n",
       "      <th>rating</th>\n",
       "      <th>category</th>\n",
       "    </tr>\n",
       "  </thead>\n",
       "  <tbody>\n",
       "    <tr>\n",
       "      <th>0</th>\n",
       "      <td>B071FXZBMV</td>\n",
       "      <td>8.99</td>\n",
       "      <td>0.00</td>\n",
       "      <td>US</td>\n",
       "      <td>30</td>\n",
       "      <td>False</td>\n",
       "      <td>True</td>\n",
       "      <td>False</td>\n",
       "      <td>False</td>\n",
       "      <td>False</td>\n",
       "      <td>31</td>\n",
       "      <td>OHill Cable Clips,16 Pack Black Adhesive Cord ...</td>\n",
       "      <td>45032.0</td>\n",
       "      <td>4.5</td>\n",
       "      <td>Electronics</td>\n",
       "    </tr>\n",
       "    <tr>\n",
       "      <th>1</th>\n",
       "      <td>B096WLN8XJ</td>\n",
       "      <td>44.00</td>\n",
       "      <td>0.00</td>\n",
       "      <td>US</td>\n",
       "      <td>2</td>\n",
       "      <td>True</td>\n",
       "      <td>True</td>\n",
       "      <td>False</td>\n",
       "      <td>False</td>\n",
       "      <td>False</td>\n",
       "      <td>38</td>\n",
       "      <td>2021 Topps Series 2 Baseball Blaster Box</td>\n",
       "      <td>203.0</td>\n",
       "      <td>4.7</td>\n",
       "      <td>Sports Collectibles</td>\n",
       "    </tr>\n",
       "    <tr>\n",
       "      <th>2</th>\n",
       "      <td>B09B2QR6LR</td>\n",
       "      <td>17.90</td>\n",
       "      <td>0.00</td>\n",
       "      <td>US</td>\n",
       "      <td>7</td>\n",
       "      <td>True</td>\n",
       "      <td>True</td>\n",
       "      <td>False</td>\n",
       "      <td>False</td>\n",
       "      <td>False</td>\n",
       "      <td>81</td>\n",
       "      <td>2021 Panini Prizm Draft Picks Football CELLO p...</td>\n",
       "      <td>21.0</td>\n",
       "      <td>4.1</td>\n",
       "      <td>Sports Collectibles</td>\n",
       "    </tr>\n",
       "    <tr>\n",
       "      <th>4</th>\n",
       "      <td>B003I7HS5M</td>\n",
       "      <td>0.00</td>\n",
       "      <td>0.00</td>\n",
       "      <td>US</td>\n",
       "      <td>0</td>\n",
       "      <td>True</td>\n",
       "      <td>True</td>\n",
       "      <td>False</td>\n",
       "      <td>False</td>\n",
       "      <td>True</td>\n",
       "      <td>40</td>\n",
       "      <td>Ranger Rick Jr.</td>\n",
       "      <td>1595.0</td>\n",
       "      <td>4.7</td>\n",
       "      <td>Magazine Subscriptions</td>\n",
       "    </tr>\n",
       "    <tr>\n",
       "      <th>5</th>\n",
       "      <td>B005HNZ5T6</td>\n",
       "      <td>11.60</td>\n",
       "      <td>13.36</td>\n",
       "      <td>US</td>\n",
       "      <td>90</td>\n",
       "      <td>False</td>\n",
       "      <td>False</td>\n",
       "      <td>False</td>\n",
       "      <td>False</td>\n",
       "      <td>False</td>\n",
       "      <td>69</td>\n",
       "      <td>uni-ball 207 Retractable Gel Pens, Bold Point ...</td>\n",
       "      <td>28045.0</td>\n",
       "      <td>4.7</td>\n",
       "      <td>Office Products</td>\n",
       "    </tr>\n",
       "  </tbody>\n",
       "</table>\n",
       "</div>"
      ],
      "text/plain": [
       "           id  price  discount country  quantity  missOverview  missDiscount  \\\n",
       "0  B071FXZBMV   8.99      0.00      US        30         False          True   \n",
       "1  B096WLN8XJ  44.00      0.00      US         2          True          True   \n",
       "2  B09B2QR6LR  17.90      0.00      US         7          True          True   \n",
       "4  B003I7HS5M   0.00      0.00      US         0          True          True   \n",
       "5  B005HNZ5T6  11.60     13.36      US        90         False         False   \n",
       "\n",
       "   missCountry  missQuantity  missPrice  rank  \\\n",
       "0        False         False      False    31   \n",
       "1        False         False      False    38   \n",
       "2        False         False      False    81   \n",
       "4        False         False       True    40   \n",
       "5        False         False      False    69   \n",
       "\n",
       "                                                name  ratings_count  rating  \\\n",
       "0  OHill Cable Clips,16 Pack Black Adhesive Cord ...        45032.0     4.5   \n",
       "1           2021 Topps Series 2 Baseball Blaster Box          203.0     4.7   \n",
       "2  2021 Panini Prizm Draft Picks Football CELLO p...           21.0     4.1   \n",
       "4                                    Ranger Rick Jr.         1595.0     4.7   \n",
       "5  uni-ball 207 Retractable Gel Pens, Bold Point ...        28045.0     4.7   \n",
       "\n",
       "                 category  \n",
       "0             Electronics  \n",
       "1     Sports Collectibles  \n",
       "2     Sports Collectibles  \n",
       "4  Magazine Subscriptions  \n",
       "5         Office Products  "
      ]
     },
     "execution_count": 10,
     "metadata": {},
     "output_type": "execute_result"
    }
   ],
   "source": [
    "# remove NAN\n",
    "df = df.dropna()\n",
    "df.head()"
   ]
  },
  {
   "cell_type": "code",
   "execution_count": 11,
   "id": "7296c199",
   "metadata": {
    "pycharm": {
     "name": "#%%\n"
    }
   },
   "outputs": [
    {
     "data": {
      "text/html": [
       "<div>\n",
       "<style scoped>\n",
       "    .dataframe tbody tr th:only-of-type {\n",
       "        vertical-align: middle;\n",
       "    }\n",
       "\n",
       "    .dataframe tbody tr th {\n",
       "        vertical-align: top;\n",
       "    }\n",
       "\n",
       "    .dataframe thead th {\n",
       "        text-align: right;\n",
       "    }\n",
       "</style>\n",
       "<table border=\"1\" class=\"dataframe\">\n",
       "  <thead>\n",
       "    <tr style=\"text-align: right;\">\n",
       "      <th></th>\n",
       "      <th>id</th>\n",
       "      <th>price</th>\n",
       "      <th>discount</th>\n",
       "      <th>country</th>\n",
       "      <th>quantity</th>\n",
       "      <th>missOverview</th>\n",
       "      <th>missDiscount</th>\n",
       "      <th>missCountry</th>\n",
       "      <th>missQuantity</th>\n",
       "      <th>missPrice</th>\n",
       "      <th>rank</th>\n",
       "      <th>name</th>\n",
       "      <th>ratings_count</th>\n",
       "      <th>rating</th>\n",
       "      <th>category</th>\n",
       "      <th>label</th>\n",
       "    </tr>\n",
       "  </thead>\n",
       "  <tbody>\n",
       "    <tr>\n",
       "      <th>0</th>\n",
       "      <td>B071FXZBMV</td>\n",
       "      <td>8.99</td>\n",
       "      <td>0.00</td>\n",
       "      <td>US</td>\n",
       "      <td>30</td>\n",
       "      <td>False</td>\n",
       "      <td>True</td>\n",
       "      <td>False</td>\n",
       "      <td>False</td>\n",
       "      <td>False</td>\n",
       "      <td>31</td>\n",
       "      <td>OHill Cable Clips,16 Pack Black Adhesive Cord ...</td>\n",
       "      <td>45032.0</td>\n",
       "      <td>4.5</td>\n",
       "      <td>Electronics</td>\n",
       "      <td>1</td>\n",
       "    </tr>\n",
       "    <tr>\n",
       "      <th>1</th>\n",
       "      <td>B096WLN8XJ</td>\n",
       "      <td>44.00</td>\n",
       "      <td>0.00</td>\n",
       "      <td>US</td>\n",
       "      <td>2</td>\n",
       "      <td>True</td>\n",
       "      <td>True</td>\n",
       "      <td>False</td>\n",
       "      <td>False</td>\n",
       "      <td>False</td>\n",
       "      <td>38</td>\n",
       "      <td>2021 Topps Series 2 Baseball Blaster Box</td>\n",
       "      <td>203.0</td>\n",
       "      <td>4.7</td>\n",
       "      <td>Sports Collectibles</td>\n",
       "      <td>1</td>\n",
       "    </tr>\n",
       "    <tr>\n",
       "      <th>2</th>\n",
       "      <td>B09B2QR6LR</td>\n",
       "      <td>17.90</td>\n",
       "      <td>0.00</td>\n",
       "      <td>US</td>\n",
       "      <td>7</td>\n",
       "      <td>True</td>\n",
       "      <td>True</td>\n",
       "      <td>False</td>\n",
       "      <td>False</td>\n",
       "      <td>False</td>\n",
       "      <td>81</td>\n",
       "      <td>2021 Panini Prizm Draft Picks Football CELLO p...</td>\n",
       "      <td>21.0</td>\n",
       "      <td>4.1</td>\n",
       "      <td>Sports Collectibles</td>\n",
       "      <td>0</td>\n",
       "    </tr>\n",
       "    <tr>\n",
       "      <th>4</th>\n",
       "      <td>B003I7HS5M</td>\n",
       "      <td>0.00</td>\n",
       "      <td>0.00</td>\n",
       "      <td>US</td>\n",
       "      <td>0</td>\n",
       "      <td>True</td>\n",
       "      <td>True</td>\n",
       "      <td>False</td>\n",
       "      <td>False</td>\n",
       "      <td>True</td>\n",
       "      <td>40</td>\n",
       "      <td>Ranger Rick Jr.</td>\n",
       "      <td>1595.0</td>\n",
       "      <td>4.7</td>\n",
       "      <td>Magazine Subscriptions</td>\n",
       "      <td>1</td>\n",
       "    </tr>\n",
       "    <tr>\n",
       "      <th>5</th>\n",
       "      <td>B005HNZ5T6</td>\n",
       "      <td>11.60</td>\n",
       "      <td>13.36</td>\n",
       "      <td>US</td>\n",
       "      <td>90</td>\n",
       "      <td>False</td>\n",
       "      <td>False</td>\n",
       "      <td>False</td>\n",
       "      <td>False</td>\n",
       "      <td>False</td>\n",
       "      <td>69</td>\n",
       "      <td>uni-ball 207 Retractable Gel Pens, Bold Point ...</td>\n",
       "      <td>28045.0</td>\n",
       "      <td>4.7</td>\n",
       "      <td>Office Products</td>\n",
       "      <td>0</td>\n",
       "    </tr>\n",
       "  </tbody>\n",
       "</table>\n",
       "</div>"
      ],
      "text/plain": [
       "           id  price  discount country  quantity  missOverview  missDiscount  \\\n",
       "0  B071FXZBMV   8.99      0.00      US        30         False          True   \n",
       "1  B096WLN8XJ  44.00      0.00      US         2          True          True   \n",
       "2  B09B2QR6LR  17.90      0.00      US         7          True          True   \n",
       "4  B003I7HS5M   0.00      0.00      US         0          True          True   \n",
       "5  B005HNZ5T6  11.60     13.36      US        90         False         False   \n",
       "\n",
       "   missCountry  missQuantity  missPrice  rank  \\\n",
       "0        False         False      False    31   \n",
       "1        False         False      False    38   \n",
       "2        False         False      False    81   \n",
       "4        False         False       True    40   \n",
       "5        False         False      False    69   \n",
       "\n",
       "                                                name  ratings_count  rating  \\\n",
       "0  OHill Cable Clips,16 Pack Black Adhesive Cord ...        45032.0     4.5   \n",
       "1           2021 Topps Series 2 Baseball Blaster Box          203.0     4.7   \n",
       "2  2021 Panini Prizm Draft Picks Football CELLO p...           21.0     4.1   \n",
       "4                                    Ranger Rick Jr.         1595.0     4.7   \n",
       "5  uni-ball 207 Retractable Gel Pens, Bold Point ...        28045.0     4.7   \n",
       "\n",
       "                 category  label  \n",
       "0             Electronics      1  \n",
       "1     Sports Collectibles      1  \n",
       "2     Sports Collectibles      0  \n",
       "4  Magazine Subscriptions      1  \n",
       "5         Office Products      0  "
      ]
     },
     "execution_count": 11,
     "metadata": {},
     "output_type": "execute_result"
    }
   ],
   "source": [
    "# define top seller: rank < 50\n",
    "df['label'] = 0\n",
    "top_idx = df['rank'] < 50\n",
    "df[top_idx] = df[top_idx].assign(label=1)\n",
    "df.head()"
   ]
  },
  {
   "cell_type": "markdown",
   "id": "7973725c",
   "metadata": {
    "pycharm": {
     "name": "#%% md\n"
    }
   },
   "source": [
    "# ML Model\n",
    "## Model\n",
    "* Logistics Regression\n",
    "\n",
    "## Experiments\n",
    "1. basic one, use cross validation to find the best hyper parameter\n",
    "2. explore how different scale method influence the experiment results\n",
    "3. explore how different data feature influence the experiment results"
   ]
  },
  {
   "cell_type": "code",
   "execution_count": 12,
   "id": "3493468d",
   "metadata": {
    "pycharm": {
     "name": "#%%\n"
    }
   },
   "outputs": [],
   "source": [
    "import numpy as np\n",
    "from sklearn.linear_model import LogisticRegression\n",
    "from sklearn.datasets import load_iris\n",
    "from sklearn.utils import shuffle\n",
    "from sklearn.preprocessing import OneHotEncoder"
   ]
  },
  {
   "cell_type": "code",
   "execution_count": 13,
   "id": "2652ef7a",
   "metadata": {
    "pycharm": {
     "name": "#%%\n"
    }
   },
   "outputs": [
    {
     "data": {
      "text/html": [
       "<div>\n",
       "<style scoped>\n",
       "    .dataframe tbody tr th:only-of-type {\n",
       "        vertical-align: middle;\n",
       "    }\n",
       "\n",
       "    .dataframe tbody tr th {\n",
       "        vertical-align: top;\n",
       "    }\n",
       "\n",
       "    .dataframe thead th {\n",
       "        text-align: right;\n",
       "    }\n",
       "</style>\n",
       "<table border=\"1\" class=\"dataframe\">\n",
       "  <thead>\n",
       "    <tr style=\"text-align: right;\">\n",
       "      <th></th>\n",
       "      <th>price</th>\n",
       "      <th>discount</th>\n",
       "      <th>rating</th>\n",
       "      <th>ratings_count</th>\n",
       "      <th>category</th>\n",
       "      <th>label</th>\n",
       "    </tr>\n",
       "  </thead>\n",
       "  <tbody>\n",
       "    <tr>\n",
       "      <th>362</th>\n",
       "      <td>119.00</td>\n",
       "      <td>30.99</td>\n",
       "      <td>4.3</td>\n",
       "      <td>792.0</td>\n",
       "      <td>Camera &amp; Photo Products</td>\n",
       "      <td>0</td>\n",
       "    </tr>\n",
       "    <tr>\n",
       "      <th>515</th>\n",
       "      <td>16.99</td>\n",
       "      <td>0.00</td>\n",
       "      <td>4.4</td>\n",
       "      <td>18012.0</td>\n",
       "      <td>Electronics</td>\n",
       "      <td>1</td>\n",
       "    </tr>\n",
       "    <tr>\n",
       "      <th>587</th>\n",
       "      <td>0.00</td>\n",
       "      <td>0.00</td>\n",
       "      <td>4.5</td>\n",
       "      <td>25591.0</td>\n",
       "      <td>Industrial &amp; Scientific</td>\n",
       "      <td>0</td>\n",
       "    </tr>\n",
       "    <tr>\n",
       "      <th>255</th>\n",
       "      <td>0.00</td>\n",
       "      <td>0.00</td>\n",
       "      <td>4.8</td>\n",
       "      <td>1175.0</td>\n",
       "      <td>Industrial &amp; Scientific</td>\n",
       "      <td>1</td>\n",
       "    </tr>\n",
       "    <tr>\n",
       "      <th>350</th>\n",
       "      <td>9.98</td>\n",
       "      <td>4.01</td>\n",
       "      <td>4.3</td>\n",
       "      <td>6561.0</td>\n",
       "      <td>Industrial &amp; Scientific</td>\n",
       "      <td>0</td>\n",
       "    </tr>\n",
       "  </tbody>\n",
       "</table>\n",
       "</div>"
      ],
      "text/plain": [
       "      price  discount  rating  ratings_count                 category  label\n",
       "362  119.00     30.99     4.3          792.0  Camera & Photo Products      0\n",
       "515   16.99      0.00     4.4        18012.0              Electronics      1\n",
       "587    0.00      0.00     4.5        25591.0  Industrial & Scientific      0\n",
       "255    0.00      0.00     4.8         1175.0  Industrial & Scientific      1\n",
       "350    9.98      4.01     4.3         6561.0  Industrial & Scientific      0"
      ]
     },
     "execution_count": 13,
     "metadata": {},
     "output_type": "execute_result"
    }
   ],
   "source": [
    "df = df.sample(frac=1, random_state=42)\n",
    "df[['price', 'discount' , 'rating', 'ratings_count', 'category', 'label']].head()"
   ]
  },
  {
   "cell_type": "code",
   "execution_count": 14,
   "id": "b58369b6",
   "metadata": {
    "pycharm": {
     "name": "#%%\n"
    }
   },
   "outputs": [
    {
     "data": {
      "text/plain": [
       "(774, 8)"
      ]
     },
     "execution_count": 14,
     "metadata": {},
     "output_type": "execute_result"
    }
   ],
   "source": [
    "# one hot encoding\n",
    "df_cat = df['category'].to_numpy().reshape(-1,1)\n",
    "enc = OneHotEncoder(handle_unknown='ignore', sparse=False)\n",
    "enc.fit(df_cat)\n",
    "cat_ = enc.transform(df_cat)\n",
    "cat_.shape"
   ]
  },
  {
   "cell_type": "code",
   "execution_count": 15,
   "id": "269ee70a",
   "metadata": {
    "pycharm": {
     "name": "#%%\n"
    }
   },
   "outputs": [
    {
     "name": "stdout",
     "output_type": "stream",
     "text": [
      "before concate one hot category:  (774, 4)\n",
      "after concate one hot category:  (774, 12)\n"
     ]
    }
   ],
   "source": [
    "X = df[['price', 'discount' , 'rating', 'ratings_count']].to_numpy()\n",
    "\n",
    "# concate one hot category to X\n",
    "print('before concate one hot category: ', X.shape)\n",
    "X_c = np.concatenate([X, cat_], axis=1)\n",
    "print('after concate one hot category: ', X_c.shape)\n",
    "\n",
    "y = df['label'].to_numpy()"
   ]
  },
  {
   "cell_type": "markdown",
   "id": "f4ad9876",
   "metadata": {
    "pycharm": {
     "name": "#%% md\n"
    }
   },
   "source": [
    "## Experiment 1\n",
    "- basic one, use cross validation to find the best hyper parameter\n",
    "- WARN: Since the dataset size is small，test acc is highly dependent on train/test dataset spliting. Therefore we test or validate for multiple times and then take the average accuracy."
   ]
  },
  {
   "cell_type": "code",
   "execution_count": 16,
   "id": "19bf8624",
   "metadata": {
    "pycharm": {
     "name": "#%%\n"
    }
   },
   "outputs": [
    {
     "name": "stderr",
     "output_type": "stream",
     "text": [
      "/opt/homebrew/Caskroom/miniforge/base/envs/tensorflow/lib/python3.9/site-packages/sklearn/linear_model/_logistic.py:814: ConvergenceWarning: lbfgs failed to converge (status=1):\n",
      "STOP: TOTAL NO. of ITERATIONS REACHED LIMIT.\n",
      "\n",
      "Increase the number of iterations (max_iter) or scale the data as shown in:\n",
      "    https://scikit-learn.org/stable/modules/preprocessing.html\n",
      "Please also refer to the documentation for alternative solver options:\n",
      "    https://scikit-learn.org/stable/modules/linear_model.html#logistic-regression\n",
      "  n_iter_i = _check_optimize_result(\n"
     ]
    },
    {
     "name": "stdout",
     "output_type": "stream",
     "text": [
      "Average val acc:0.5544138248847926\n"
     ]
    }
   ],
   "source": [
    "# Use K-fold cross validation to select best parameters\n",
    "def KFoldTest(data, label, param, n_splits=5, n_repeats=100):\n",
    "    kf = RepeatedKFold(n_splits=n_splits, n_repeats=n_repeats)\n",
    "    val_acc_list = []\n",
    "    for train_idx, val_idx in kf.split(data):\n",
    "        # train and val data\n",
    "        data_train, label_train = data[train_idx], label[train_idx]\n",
    "        data_val, label_val = data[val_idx], label[val_idx]\n",
    "        # build a model\n",
    "        model = LogisticRegression(**param)\n",
    "        model.fit(data_train, label_train)\n",
    "        val_acc = model.score(data_val, label_val)\n",
    "        val_acc_list.append(val_acc)\n",
    "    avg_val_acc = np.mean(val_acc_list)\n",
    "    return val_acc_list, avg_val_acc\n",
    "\n",
    "val_acc_list, avg_val_acc = KFoldTest(data=X_c, label=y, param={})\n",
    "print(f'Average val acc:{avg_val_acc}')"
   ]
  },
  {
   "cell_type": "code",
   "execution_count": 17,
   "id": "b375668d",
   "metadata": {
    "pycharm": {
     "name": "#%%\n"
    }
   },
   "outputs": [],
   "source": [
    "import warnings\n",
    "warnings.filterwarnings('ignore')\n",
    "\n",
    "def best_param_search(data, label, Cs, penalties):\n",
    "    solver = 'liblinear'\n",
    "    print(f\"## Searching for best parameters using solver: {solver}\")\n",
    "\n",
    "    best_penalty = 'l1'\n",
    "    best_c = 0.1\n",
    "    max_val_acc = 0\n",
    "\n",
    "    pen2acc = {'l1':[], 'l2':[], 'none':[]}\n",
    "    for penalty in penalties:\n",
    "        print(f'== penalty:{penalty} ==')\n",
    "        for c in Cs:\n",
    "            _, avg_val_acc = KFoldTest(data=data, label=label, param={'C':c, 'penalty':penalty, 'solver':solver})\n",
    "            pen2acc[penalty].append(avg_val_acc)\n",
    "            if avg_val_acc > max_val_acc:\n",
    "                best_penalty, best_c = penalty, c\n",
    "                max_val_acc = avg_val_acc\n",
    "            print(f'c:{c:.4f}, val_acc:{avg_val_acc:.4f}')\n",
    "    print(f'best_penalty:{best_penalty}, best_c:{best_c}, max_val_acc:{max_val_acc:.4f}')\n",
    "    return best_penalty, best_c, pen2acc"
   ]
  },
  {
   "cell_type": "code",
   "execution_count": 18,
   "id": "52b7eb3f",
   "metadata": {
    "pycharm": {
     "name": "#%%\n"
    }
   },
   "outputs": [
    {
     "name": "stdout",
     "output_type": "stream",
     "text": [
      "## Searching for best parameters using solver: liblinear\n",
      "== penalty:l1 ==\n",
      "c:0.1000, val_acc:0.5743\n",
      "c:0.2000, val_acc:0.5738\n",
      "c:0.3000, val_acc:0.5716\n",
      "c:0.4000, val_acc:0.5667\n",
      "c:0.5000, val_acc:0.5667\n",
      "c:0.6000, val_acc:0.5654\n",
      "c:0.7000, val_acc:0.5619\n",
      "c:0.8000, val_acc:0.5621\n",
      "c:0.9000, val_acc:0.5629\n",
      "c:1.0000, val_acc:0.5620\n",
      "== penalty:l2 ==\n",
      "c:0.1000, val_acc:0.5570\n",
      "c:0.2000, val_acc:0.5567\n",
      "c:0.3000, val_acc:0.5540\n",
      "c:0.4000, val_acc:0.5541\n",
      "c:0.5000, val_acc:0.5541\n",
      "c:0.6000, val_acc:0.5547\n",
      "c:0.7000, val_acc:0.5536\n",
      "c:0.8000, val_acc:0.5550\n",
      "c:0.9000, val_acc:0.5574\n",
      "c:1.0000, val_acc:0.5559\n",
      "best_penalty:l1, best_c:0.1, max_val_acc:0.5743\n"
     ]
    }
   ],
   "source": [
    "Cs = [0.1, 0.2, 0.3, 0.4, 0.5, 0.6, 0.7, 0.8, 0.9, 1.0]\n",
    "penalties = ['l1', 'l2']\n",
    "best_penalty, best_c, pen2acc = best_param_search(X_c, y, Cs, penalties)"
   ]
  },
  {
   "cell_type": "code",
   "execution_count": 19,
   "id": "3a87725d",
   "metadata": {
    "pycharm": {
     "name": "#%%\n"
    }
   },
   "outputs": [
    {
     "data": {
      "image/png": "[encoded data removed]",
      "text/plain": [
       "<Figure size 525x420 with 1 Axes>"
      ]
     },
     "metadata": {
      "needs_background": "light"
     },
     "output_type": "display_data"
    }
   ],
   "source": [
    "# Draw \n",
    "import matplotlib.pyplot as plt\n",
    "%matplotlib inline\n",
    "plt.rcParams['figure.dpi'] = 150\n",
    "plt.rcParams['savefig.dpi'] = 150\n",
    "plt.rcParams[\"figure.figsize\"] = (3.5,2.8)\n",
    "\n",
    "plt.plot(Cs, pen2acc['l1'],'s-', label='l1')\n",
    "plt.plot(Cs, pen2acc['l2'],'s-', label='l2')\n",
    "plt.xlabel('C')\n",
    "plt.ylabel('Val Acc')\n",
    "plt.legend(loc='best')\n",
    "plt.title('Validation Accuracy across different C')\n",
    "plt.show()"
   ]
  },
  {
   "cell_type": "code",
   "execution_count": 21,
   "id": "935bcb13",
   "metadata": {
    "pycharm": {
     "name": "#%%\n"
    }
   },
   "outputs": [
    {
     "name": "stdout",
     "output_type": "stream",
     "text": [
      "train_acc:0.584 test_acc:0.571 For Best Parameters\n",
      "train_acc:0.565 test_acc:0.548 For Default Parameters\n"
     ]
    }
   ],
   "source": [
    "# Choose the best hyper paramter and test \n",
    "def train_test_N_times(param, data, label, N=200, test_size=0.3):\n",
    "    \"\"\"\n",
    "        Create a model according to the parameter\n",
    "        Train it on data and label for N times\n",
    "        Return the average train acc and test acc\n",
    "    \"\"\"\n",
    "    train_acc_list = []\n",
    "    test_acc_list = []\n",
    "    for i in range(N):\n",
    "        X_train, X_test, y_train, y_test = train_test_split(data, label, test_size=test_size)\n",
    "        model = LogisticRegression(**param)\n",
    "        model.fit(X_train, y_train)\n",
    "        train_acc = model.score(X_train, y_train)\n",
    "        test_acc = model.score(X_test, y_test)\n",
    "        train_acc_list.append(train_acc)\n",
    "        test_acc_list.append(test_acc)\n",
    "    return np.mean(train_acc_list), np.mean(test_acc_list)\n",
    "\n",
    "solver = 'liblinear'\n",
    "param = {'C':best_c, 'penalty':best_penalty, 'solver':solver}\n",
    "best_train_acc, best_test_acc = train_test_N_times(param, X_c, y)\n",
    "print(f\"train_acc:{best_train_acc:.3f} test_acc:{best_test_acc:.3f} For Best Parameters\")\n",
    "de_train_acc, de_test_acc = train_test_N_times({}, X_c, y)\n",
    "print(f\"train_acc:{de_train_acc:.3f} test_acc:{de_test_acc:.3f} For Default Parameters\")"
   ]
  },
  {
   "cell_type": "code",
   "execution_count": 42,
   "id": "3a844a00",
   "metadata": {
    "pycharm": {
     "name": "#%%\n"
    }
   },
   "outputs": [
    {
     "name": "stdout",
     "output_type": "stream",
     "text": [
      "[[78 25]\n",
      " [53 38]]\n"
     ]
    }
   ],
   "source": [
    "# Confusion Matrix\n",
    "from sklearn.metrics import confusion_matrix\n",
    "X_train, X_test, y_train, y_test = train_test_split(X_c, y)\n",
    "param = {'C':best_c, 'penalty':best_penalty, 'solver':solver}\n",
    "model = LogisticRegression(**param)\n",
    "model.fit(X_train, y_train)\n",
    "y_pred = model.predict(X_test)\n",
    "\n",
    "# true negatives is C_00, false negatives is C_10,  \n",
    "# true positives is C_11, and false positives is C_01\n",
    "print(confusion_matrix(y_test, y_pred))\n"
   ]
  },
  {
   "cell_type": "code",
   "execution_count": 57,
   "id": "09184cf7",
   "metadata": {
    "pycharm": {
     "name": "#%%\n"
    }
   },
   "outputs": [
    {
     "name": "stdout",
     "output_type": "stream",
     "text": [
      "defaultdict(<class 'int'>, {'Electronics': 11, 'Industrial & Scientific': 9, 'Kitchen & Dining': 16, 'Sports Collectibles': 10, 'Office Products': 7, 'Baby': 5, 'Camera & Photo Products': 12, 'Magazine Subscriptions': 8})\n"
     ]
    }
   ],
   "source": [
    "from collections import defaultdict\n",
    "# Error across different categories\n",
    "pred = y_pred == y_test\n",
    "error_cat = defaultdict(int)\n",
    "for i in range(pred.shape[0]):\n",
    "    if pred[i] == False:\n",
    "        cat_vec = X_test[i][4:].reshape(1, -1)\n",
    "        cat_ = enc.inverse_transform(cat_vec)[0][0]\n",
    "        error_cat[cat_] += 1\n",
    "\n",
    "print(error_cat)"
   ]
  },
  {
   "cell_type": "code",
   "execution_count": 72,
   "id": "a231e433",
   "metadata": {
    "pycharm": {
     "name": "#%%\n"
    }
   },
   "outputs": [
    {
     "data": {
      "image/png": "[encoded data removed]",
      "text/plain": [
       "<Figure size 525x420 with 1 Axes>"
      ]
     },
     "metadata": {},
     "output_type": "display_data"
    }
   ],
   "source": [
    "import matplotlib.pyplot as plt\n",
    "import numpy as np\n",
    "\n",
    "ks,vs = [], []\n",
    "\n",
    "for k, v in error_cat.items():\n",
    "    ks.append(k)\n",
    "    vs.append(v)\n",
    "    \n",
    "plt.pie(vs, labels=ks, textprops={'fontsize': 5}, autopct='%1.1f%%')\n",
    "plt.title('prediction error across different categories', size=8)\n",
    "plt.show()"
   ]
  },
  {
   "cell_type": "markdown",
   "id": "016ac7c8",
   "metadata": {
    "pycharm": {
     "name": "#%% md\n"
    }
   },
   "source": [
    "## Experiment 2\n",
    "- explore how different scale method influence the experiment results"
   ]
  },
  {
   "cell_type": "markdown",
   "id": "694941aa",
   "metadata": {
    "pycharm": {
     "name": "#%% md\n"
    }
   },
   "source": [
    "### Standard Normalize"
   ]
  },
  {
   "cell_type": "code",
   "execution_count": 147,
   "id": "a45ea797",
   "metadata": {
    "pycharm": {
     "name": "#%%\n"
    }
   },
   "outputs": [
    {
     "name": "stdout",
     "output_type": "stream",
     "text": [
      "[[1.1832e+02 0.0000e+00 4.5000e+00 6.2000e+01 0.0000e+00 0.0000e+00\n",
      "  0.0000e+00 0.0000e+00 0.0000e+00 0.0000e+00 0.0000e+00 1.0000e+00]\n",
      " [1.2990e+01 0.0000e+00 4.6000e+00 2.8005e+04 1.0000e+00 0.0000e+00\n",
      "  0.0000e+00 0.0000e+00 0.0000e+00 0.0000e+00 0.0000e+00 0.0000e+00]\n",
      " [1.5990e+01 0.0000e+00 4.5000e+00 8.5630e+03 0.0000e+00 0.0000e+00\n",
      "  0.0000e+00 0.0000e+00 1.0000e+00 0.0000e+00 0.0000e+00 0.0000e+00]]\n",
      "[[-0.03077799 -0.25231218 -0.19641436 -0.44588104  0.          0.\n",
      "   0.          0.          0.          0.          0.          1.        ]\n",
      " [-0.03741913 -0.25231218  0.17257767  0.09312532  1.          0.\n",
      "   0.          0.          0.          0.          0.          0.        ]\n",
      " [-0.03722998 -0.25231218 -0.19641436 -0.28190104  0.          0.\n",
      "   0.          0.          1.          0.          0.          0.        ]]\n"
     ]
    }
   ],
   "source": [
    "scaler = preprocessing.StandardScaler().fit(X_c[:, 0:4])\n",
    "X_c_stdnorm = np.zeros_like(X_c)\n",
    "X_c_stdnorm[:, 0:4] = scaler.transform(X_c[:, 0:4])\n",
    "X_c_stdnorm[:, 4:] = X_c[:, 4:]\n",
    "print(X_c[0:3])\n",
    "print(X_c_stdnorm[0:3])"
   ]
  },
  {
   "cell_type": "code",
   "execution_count": 150,
   "id": "1290447d",
   "metadata": {
    "pycharm": {
     "name": "#%%\n"
    }
   },
   "outputs": [
    {
     "name": "stdout",
     "output_type": "stream",
     "text": [
      "## Searching for best parameters using solver: liblinear\n",
      "== penalty:l1 ==\n",
      "c:0.1000, val_acc:0.5679\n",
      "c:0.2000, val_acc:0.5651\n",
      "c:0.3000, val_acc:0.5593\n",
      "c:0.4000, val_acc:0.5570\n",
      "c:0.5000, val_acc:0.5571\n",
      "c:0.6000, val_acc:0.5562\n",
      "c:0.7000, val_acc:0.5568\n",
      "c:0.8000, val_acc:0.5590\n",
      "c:0.9000, val_acc:0.5578\n",
      "c:1.0000, val_acc:0.5571\n",
      "== penalty:l2 ==\n",
      "c:0.1000, val_acc:0.5568\n",
      "c:0.2000, val_acc:0.5588\n",
      "c:0.3000, val_acc:0.5617\n",
      "c:0.4000, val_acc:0.5592\n",
      "c:0.5000, val_acc:0.5599\n",
      "c:0.6000, val_acc:0.5603\n",
      "c:0.7000, val_acc:0.5584\n",
      "c:0.8000, val_acc:0.5591\n",
      "c:0.9000, val_acc:0.5610\n",
      "c:1.0000, val_acc:0.5602\n",
      "best_penalty:l1, best_c:0.1, max_val_acc:0.5679\n",
      "Use Standard Scaler\n",
      "train_acc:0.578 test_acc:0.567 For Best Parameters\n",
      "train_acc:0.603 test_acc:0.556 For Default Parameters\n"
     ]
    }
   ],
   "source": [
    "\n",
    "# Use K-fold to select the best hyper parameters\n",
    "Cs = [0.1, 0.2, 0.3, 0.4, 0.5, 0.6, 0.7, 0.8, 0.9, 1.0]\n",
    "penalties = ['l1', 'l2']\n",
    "best_penalty, best_c, pen2acc = best_param_search(X_c_stdnorm, y, Cs, penalties)\n",
    "\n",
    "print('Use Standard Scaler')\n",
    "param = {'C':best_c, 'penalty':best_penalty, 'solver':solver}\n",
    "best_train_acc, best_test_acc = train_test_N_times(param, X_c_stdnorm, y)\n",
    "print(f\"train_acc:{best_train_acc:.3f} test_acc:{best_test_acc:.3f} For Best Parameters\")\n",
    "de_train_acc, de_test_acc = train_test_N_times({}, X_c_stdnorm, y)\n",
    "print(f\"train_acc:{de_train_acc:.3f} test_acc:{de_test_acc:.3f} For Default Parameters\")\n"
   ]
  },
  {
   "cell_type": "markdown",
   "id": "f455ebcf",
   "metadata": {
    "pycharm": {
     "name": "#%% md\n"
    }
   },
   "source": [
    "### MinMax Normalize"
   ]
  },
  {
   "cell_type": "code",
   "execution_count": 162,
   "id": "4f450141",
   "metadata": {
    "pycharm": {
     "name": "#%%\n"
    }
   },
   "outputs": [
    {
     "name": "stdout",
     "output_type": "stream",
     "text": [
      "[[1.1832e+02 0.0000e+00 4.5000e+00 6.2000e+01 0.0000e+00 0.0000e+00\n",
      "  0.0000e+00 0.0000e+00 0.0000e+00 0.0000e+00 0.0000e+00 1.0000e+00]\n",
      " [1.2990e+01 0.0000e+00 4.6000e+00 2.8005e+04 1.0000e+00 0.0000e+00\n",
      "  0.0000e+00 0.0000e+00 0.0000e+00 0.0000e+00 0.0000e+00 0.0000e+00]\n",
      " [1.5990e+01 0.0000e+00 4.5000e+00 8.5630e+03 0.0000e+00 0.0000e+00\n",
      "  0.0000e+00 0.0000e+00 1.0000e+00 0.0000e+00 0.0000e+00 0.0000e+00]]\n",
      "[[2.67973152e-04 0.00000000e+00 8.07692308e-01 6.97097446e-05\n",
      "  0.00000000e+00 0.00000000e+00 0.00000000e+00 0.00000000e+00\n",
      "  0.00000000e+00 0.00000000e+00 0.00000000e+00 1.00000000e+00]\n",
      " [2.94199733e-05 0.00000000e+00 8.46153846e-01 3.20024867e-02\n",
      "  1.00000000e+00 0.00000000e+00 0.00000000e+00 0.00000000e+00\n",
      "  0.00000000e+00 0.00000000e+00 0.00000000e+00 0.00000000e+00]\n",
      " [3.62144245e-05 0.00000000e+00 8.07692308e-01 9.78450547e-03\n",
      "  0.00000000e+00 0.00000000e+00 0.00000000e+00 0.00000000e+00\n",
      "  1.00000000e+00 0.00000000e+00 0.00000000e+00 0.00000000e+00]]\n"
     ]
    }
   ],
   "source": [
    "scaler = preprocessing.MinMaxScaler().fit(X_c[:, 0:4])\n",
    "X_c_minmaxnorm = np.zeros_like(X_c)\n",
    "X_c_minmaxnorm[:, 0:4] = scaler.transform(X_c[:, 0:4])\n",
    "X_c_minmaxnorm[:, 4:] = X_c[:, 4:]\n",
    "print(X_c[0:3])\n",
    "print(X_c_minmaxnorm[0:3])\n",
    "\n",
    "# print(np.max(X[:, 0]), np.min(X[:, 0]))"
   ]
  },
  {
   "cell_type": "code",
   "execution_count": 163,
   "id": "59ad3c25",
   "metadata": {
    "pycharm": {
     "name": "#%%\n"
    }
   },
   "outputs": [
    {
     "name": "stdout",
     "output_type": "stream",
     "text": [
      "## Searching for best parameters using solver: liblinear\n",
      "== penalty:l1 ==\n",
      "c:0.1000, val_acc:0.5103\n",
      "c:0.2000, val_acc:0.5034\n",
      "c:0.3000, val_acc:0.4903\n",
      "c:0.4000, val_acc:0.4811\n",
      "c:0.5000, val_acc:0.4973\n",
      "c:0.6000, val_acc:0.5187\n",
      "c:0.7000, val_acc:0.5206\n",
      "c:0.8000, val_acc:0.5252\n",
      "c:0.9000, val_acc:0.5272\n",
      "c:1.0000, val_acc:0.5284\n",
      "== penalty:l2 ==\n",
      "c:0.1000, val_acc:0.4475\n",
      "c:0.2000, val_acc:0.4566\n",
      "c:0.3000, val_acc:0.4587\n",
      "c:0.4000, val_acc:0.4616\n",
      "c:0.5000, val_acc:0.4658\n",
      "c:0.6000, val_acc:0.4729\n",
      "c:0.7000, val_acc:0.4725\n",
      "c:0.8000, val_acc:0.4739\n",
      "c:0.9000, val_acc:0.4795\n",
      "c:1.0000, val_acc:0.4828\n",
      "best_penalty:l1, best_c:1.0, max_val_acc:0.5284\n",
      "Use MinMax Scaler\n",
      "train_acc:0.579 test_acc:0.510 For Best Parameters\n",
      "train_acc:0.562 test_acc:0.486 For Default Parameters\n"
     ]
    }
   ],
   "source": [
    "\n",
    "# Use K-fold to select the best hyper parameters\n",
    "\n",
    "best_penalty, best_c, pen2acc = best_param_search(X_c_minmaxnorm, y, Cs, penalties)\n",
    "\n",
    "print('Use MinMax Scaler')\n",
    "param = {'C':best_c, 'penalty':best_penalty, 'solver':solver}\n",
    "best_train_acc, best_test_acc = train_test_N_times(param, X_c_minmaxnorm, y)\n",
    "print(f\"train_acc:{best_train_acc:.3f} test_acc:{best_test_acc:.3f} For Best Parameters\")\n",
    "de_train_acc, de_test_acc = train_test_N_times({}, X_c_minmaxnorm, y)\n",
    "print(f\"train_acc:{de_train_acc:.3f} test_acc:{de_test_acc:.3f} For Default Parameters\")\n"
   ]
  },
  {
   "cell_type": "markdown",
   "id": "905c4ebc",
   "metadata": {
    "pycharm": {
     "name": "#%% md\n"
    }
   },
   "source": [
    "## Experiment 3\n",
    "- explore how different data features influence the experiment results"
   ]
  },
  {
   "cell_type": "code",
   "execution_count": 178,
   "id": "def3f390",
   "metadata": {
    "pycharm": {
     "name": "#%%\n"
    }
   },
   "outputs": [
    {
     "name": "stdout",
     "output_type": "stream",
     "text": [
      "before concate one hot category:  (774, 4)\n",
      "after concate one hot category:  (774, 12)\n"
     ]
    }
   ],
   "source": []
  },
  {
   "cell_type": "markdown",
   "id": "f1c8cc70",
   "metadata": {
    "pycharm": {
     "name": "#%% md\n"
    }
   },
   "source": [
    "1. Without category data"
   ]
  },
  {
   "cell_type": "code",
   "execution_count": 180,
   "id": "294cb6bf",
   "metadata": {
    "pycharm": {
     "name": "#%%\n"
    }
   },
   "outputs": [
    {
     "name": "stdout",
     "output_type": "stream",
     "text": [
      "## Searching for best parameters using solver: liblinear\n",
      "== penalty:l1 ==\n",
      "c:0.1000, val_acc:0.5735\n",
      "c:0.2000, val_acc:0.5739\n",
      "c:0.3000, val_acc:0.5756\n",
      "c:0.4000, val_acc:0.5735\n",
      "c:0.5000, val_acc:0.5746\n",
      "c:0.6000, val_acc:0.5746\n",
      "c:0.7000, val_acc:0.5742\n",
      "c:0.8000, val_acc:0.5736\n",
      "c:0.9000, val_acc:0.5744\n",
      "c:1.0000, val_acc:0.5737\n",
      "== penalty:l2 ==\n",
      "c:0.1000, val_acc:0.5534\n",
      "c:0.2000, val_acc:0.5585\n",
      "c:0.3000, val_acc:0.5526\n",
      "c:0.4000, val_acc:0.5530\n",
      "c:0.5000, val_acc:0.5535\n",
      "c:0.6000, val_acc:0.5549\n",
      "c:0.7000, val_acc:0.5537\n",
      "c:0.8000, val_acc:0.5568\n",
      "c:0.9000, val_acc:0.5560\n",
      "c:1.0000, val_acc:0.5566\n",
      "best_penalty:l1, best_c:0.3, max_val_acc:0.5756\n",
      "Without Catgory Information\n",
      "train_acc:0.583 test_acc:0.575 For Best Parameters\n",
      "train_acc:0.564 test_acc:0.553 For Default Parameters\n"
     ]
    }
   ],
   "source": [
    "X = df[['price', 'discount' , 'rating', 'ratings_count']].to_numpy()\n",
    "y = df['label'].to_numpy()\n",
    "\n",
    "Cs = [0.1, 0.2, 0.3, 0.4, 0.5, 0.6, 0.7, 0.8, 0.9, 1.0]\n",
    "penalties = ['l1', 'l2']\n",
    "best_penalty, best_c, pen2acc = best_param_search(X, y, Cs, penalties)\n",
    "\n",
    "print('Without Catgory Information')\n",
    "param = {'C':best_c, 'penalty':best_penalty, 'solver':solver}\n",
    "best_train_acc, best_test_acc = train_test_N_times(param, X, y)\n",
    "print(f\"train_acc:{best_train_acc:.3f} test_acc:{best_test_acc:.3f} For Best Parameters\")\n",
    "de_train_acc, de_test_acc = train_test_N_times({}, X, y)\n",
    "print(f\"train_acc:{de_train_acc:.3f} test_acc:{de_test_acc:.3f} For Default Parameters\")\n",
    "\n",
    "no_cat_acc = best_test_acc"
   ]
  },
  {
   "cell_type": "markdown",
   "id": "287c8c83",
   "metadata": {
    "pycharm": {
     "name": "#%% md\n"
    }
   },
   "source": [
    "2. without price"
   ]
  },
  {
   "cell_type": "code",
   "execution_count": 181,
   "id": "62ccf958",
   "metadata": {
    "pycharm": {
     "name": "#%%\n"
    }
   },
   "outputs": [
    {
     "name": "stdout",
     "output_type": "stream",
     "text": [
      "## Searching for best parameters using solver: liblinear\n",
      "== penalty:l1 ==\n",
      "c:0.1000, val_acc:0.5735\n",
      "c:0.2000, val_acc:0.5736\n",
      "c:0.3000, val_acc:0.5718\n",
      "c:0.4000, val_acc:0.5704\n",
      "c:0.5000, val_acc:0.5658\n",
      "c:0.6000, val_acc:0.5649\n",
      "c:0.7000, val_acc:0.5631\n",
      "c:0.8000, val_acc:0.5639\n",
      "c:0.9000, val_acc:0.5603\n",
      "c:1.0000, val_acc:0.5633\n",
      "== penalty:l2 ==\n",
      "c:0.1000, val_acc:0.5429\n",
      "c:0.2000, val_acc:0.5466\n",
      "c:0.3000, val_acc:0.5458\n",
      "c:0.4000, val_acc:0.5448\n",
      "c:0.5000, val_acc:0.5409\n",
      "c:0.6000, val_acc:0.5453\n",
      "c:0.7000, val_acc:0.5451\n",
      "c:0.8000, val_acc:0.5450\n",
      "c:0.9000, val_acc:0.5458\n",
      "c:1.0000, val_acc:0.5461\n",
      "best_penalty:l1, best_c:0.2, max_val_acc:0.5736\n",
      "Without Price Information\n",
      "train_acc:0.584 test_acc:0.574 For Best Parameters\n",
      "train_acc:0.513 test_acc:0.503 For Default Parameters\n"
     ]
    }
   ],
   "source": [
    "X = df[['discount' , 'rating', 'ratings_count']].to_numpy()\n",
    "\n",
    "# concate one hot category to X\n",
    "# print('before concate one hot category: ', X.shape)\n",
    "X_ = np.concatenate([X, cat_], axis=1)\n",
    "# print('after concate one hot category: ', X_c.shape)\n",
    "\n",
    "y = df['label'].to_numpy()\n",
    "\n",
    "Cs = [0.1, 0.2, 0.3, 0.4, 0.5, 0.6, 0.7, 0.8, 0.9, 1.0]\n",
    "penalties = ['l1', 'l2']\n",
    "best_penalty, best_c, pen2acc = best_param_search(X_, y, Cs, penalties)\n",
    "\n",
    "print('Without Price Information')\n",
    "param = {'C':best_c, 'penalty':best_penalty, 'solver':solver}\n",
    "best_train_acc, best_test_acc = train_test_N_times(param, X_, y)\n",
    "print(f\"train_acc:{best_train_acc:.3f} test_acc:{best_test_acc:.3f} For Best Parameters\")\n",
    "de_train_acc, de_test_acc = train_test_N_times({}, X_, y)\n",
    "print(f\"train_acc:{de_train_acc:.3f} test_acc:{de_test_acc:.3f} For Default Parameters\")\n",
    "\n",
    "no_price_acc = best_test_acc"
   ]
  },
  {
   "cell_type": "markdown",
   "id": "5bdcada6",
   "metadata": {
    "pycharm": {
     "name": "#%% md\n"
    }
   },
   "source": [
    "**Without discount**"
   ]
  },
  {
   "cell_type": "code",
   "execution_count": 182,
   "id": "43a5aa31",
   "metadata": {
    "pycharm": {
     "name": "#%%\n"
    }
   },
   "outputs": [
    {
     "name": "stdout",
     "output_type": "stream",
     "text": [
      "Without discount Information\n",
      "## Searching for best parameters using solver: liblinear\n",
      "== penalty:l1 ==\n",
      "c:0.1000, val_acc:0.5758\n",
      "c:0.2000, val_acc:0.5766\n",
      "c:0.3000, val_acc:0.5728\n",
      "c:0.4000, val_acc:0.5681\n",
      "c:0.5000, val_acc:0.5680\n",
      "c:0.6000, val_acc:0.5676\n",
      "c:0.7000, val_acc:0.5662\n",
      "c:0.8000, val_acc:0.5652\n",
      "c:0.9000, val_acc:0.5651\n",
      "c:1.0000, val_acc:0.5639\n",
      "best_penalty:l1, best_c:0.2, max_val_acc:0.5766\n",
      "train_acc:0.585 test_acc:0.577 For Best Parameters\n",
      "train_acc:0.563 test_acc:0.546 For Default Parameters\n"
     ]
    }
   ],
   "source": [
    "print('Without discount Information')\n",
    "\n",
    "X = df[['price' , 'rating', 'ratings_count']].to_numpy()\n",
    "\n",
    "# concate one hot category to X\n",
    "# print('before concate one hot category: ', X.shape)\n",
    "X_ = np.concatenate([X, cat_], axis=1)\n",
    "# print('after concate one hot category: ', X_c.shape)\n",
    "\n",
    "y = df['label'].to_numpy()\n",
    "\n",
    "Cs = [0.1, 0.2, 0.3, 0.4, 0.5, 0.6, 0.7, 0.8, 0.9, 1.0]\n",
    "penalties = ['l1']\n",
    "best_penalty, best_c, pen2acc = best_param_search(X_, y, Cs, penalties)\n",
    "\n",
    "param = {'C':best_c, 'penalty':best_penalty, 'solver':solver}\n",
    "best_train_acc, best_test_acc = train_test_N_times(param, X_, y)\n",
    "print(f\"train_acc:{best_train_acc:.3f} test_acc:{best_test_acc:.3f} For Best Parameters\")\n",
    "de_train_acc, de_test_acc = train_test_N_times({}, X_, y)\n",
    "print(f\"train_acc:{de_train_acc:.3f} test_acc:{de_test_acc:.3f} For Default Parameters\")\n",
    "\n",
    "no_discount_acc = best_test_acc"
   ]
  },
  {
   "cell_type": "code",
   "execution_count": 183,
   "id": "1000c076",
   "metadata": {
    "pycharm": {
     "name": "#%%\n"
    }
   },
   "outputs": [
    {
     "name": "stdout",
     "output_type": "stream",
     "text": [
      "Without rating Information\n",
      "## Searching for best parameters using solver: liblinear\n",
      "== penalty:l1 ==\n",
      "c:0.1000, val_acc:0.5645\n",
      "c:0.2000, val_acc:0.5691\n",
      "c:0.3000, val_acc:0.5695\n",
      "c:0.4000, val_acc:0.5647\n",
      "c:0.5000, val_acc:0.5653\n",
      "c:0.6000, val_acc:0.5639\n",
      "c:0.7000, val_acc:0.5637\n",
      "c:0.8000, val_acc:0.5644\n",
      "c:0.9000, val_acc:0.5654\n",
      "c:1.0000, val_acc:0.5625\n",
      "best_penalty:l1, best_c:0.3, max_val_acc:0.5695\n",
      "train_acc:0.590 test_acc:0.569 For Best Parameters\n",
      "train_acc:0.525 test_acc:0.514 For Default Parameters\n"
     ]
    }
   ],
   "source": [
    "print('Without rating Information')\n",
    "\n",
    "X = df[['price' , 'discount', 'ratings_count']].to_numpy()\n",
    "\n",
    "# concate one hot category to X\n",
    "# print('before concate one hot category: ', X.shape)\n",
    "X_ = np.concatenate([X, cat_], axis=1)\n",
    "# print('after concate one hot category: ', X_c.shape)\n",
    "\n",
    "y = df['label'].to_numpy()\n",
    "\n",
    "Cs = [0.1, 0.2, 0.3, 0.4, 0.5, 0.6, 0.7, 0.8, 0.9, 1.0]\n",
    "penalties = ['l1']\n",
    "best_penalty, best_c, pen2acc = best_param_search(X_, y, Cs, penalties)\n",
    "\n",
    "param = {'C':best_c, 'penalty':best_penalty, 'solver':solver}\n",
    "best_train_acc, best_test_acc = train_test_N_times(param, X_, y)\n",
    "print(f\"train_acc:{best_train_acc:.3f} test_acc:{best_test_acc:.3f} For Best Parameters\")\n",
    "de_train_acc, de_test_acc = train_test_N_times({}, X_, y)\n",
    "print(f\"train_acc:{de_train_acc:.3f} test_acc:{de_test_acc:.3f} For Default Parameters\")\n",
    "\n",
    "no_rate_acc = best_test_acc"
   ]
  },
  {
   "cell_type": "code",
   "execution_count": 184,
   "id": "82e9cba4",
   "metadata": {
    "pycharm": {
     "name": "#%%\n"
    }
   },
   "outputs": [
    {
     "name": "stdout",
     "output_type": "stream",
     "text": [
      "Without ratings_count Information\n",
      "## Searching for best parameters using solver: liblinear\n",
      "== penalty:l1 ==\n",
      "c:0.1000, val_acc:0.4806\n",
      "c:0.2000, val_acc:0.4801\n",
      "c:0.3000, val_acc:0.4703\n",
      "c:0.4000, val_acc:0.4627\n",
      "c:0.5000, val_acc:0.4559\n",
      "c:0.6000, val_acc:0.4522\n",
      "c:0.7000, val_acc:0.4492\n",
      "c:0.8000, val_acc:0.4479\n",
      "c:0.9000, val_acc:0.4464\n",
      "c:1.0000, val_acc:0.4428\n",
      "best_penalty:l1, best_c:0.1, max_val_acc:0.4806\n",
      "train_acc:0.513 test_acc:0.476 For Best Parameters\n",
      "train_acc:0.533 test_acc:0.471 For Default Parameters\n"
     ]
    }
   ],
   "source": [
    "print('Without ratings_count Information')\n",
    "\n",
    "X = df[['price' , 'discount', 'rating']].to_numpy()\n",
    "\n",
    "# concate one hot category to X\n",
    "# print('before concate one hot category: ', X.shape)\n",
    "X_ = np.concatenate([X, cat_], axis=1)\n",
    "# print('after concate one hot category: ', X_c.shape)\n",
    "\n",
    "y = df['label'].to_numpy()\n",
    "\n",
    "Cs = [0.1, 0.2, 0.3, 0.4, 0.5, 0.6, 0.7, 0.8, 0.9, 1.0]\n",
    "penalties = ['l1']\n",
    "best_penalty, best_c, pen2acc = best_param_search(X_, y, Cs, penalties)\n",
    "\n",
    "param = {'C':best_c, 'penalty':best_penalty, 'solver':solver}\n",
    "best_train_acc, best_test_acc = train_test_N_times(param, X_, y)\n",
    "print(f\"train_acc:{best_train_acc:.3f} test_acc:{best_test_acc:.3f} For Best Parameters\")\n",
    "de_train_acc, de_test_acc = train_test_N_times({}, X_, y)\n",
    "print(f\"train_acc:{de_train_acc:.3f} test_acc:{de_test_acc:.3f} For Default Parameters\")\n",
    "\n",
    "no_rate_cnt_acc = best_test_acc"
   ]
  },
  {
   "cell_type": "code",
   "execution_count": 200,
   "id": "bfe59abd",
   "metadata": {
    "pycharm": {
     "name": "#%%\n"
    }
   },
   "outputs": [
    {
     "name": "stdout",
     "output_type": "stream",
     "text": [
      "[0.0054163090128754865, 0.0016609442060084856, 0.009772532188841221, 0.10307725321888411, 0.0035708154506437495]\n"
     ]
    },
    {
     "data": {
      "image/png": "[encoded data removed]",
      "text/plain": [
       "<Figure size 825x420 with 1 Axes>"
      ]
     },
     "metadata": {
      "needs_background": "light"
     },
     "output_type": "display_data"
    }
   ],
   "source": [
    "best_test_acc = 0.579\n",
    "no_feat = ['price', 'discount', 'rating', 'rating_num', 'category']\n",
    "no_feat_acc = [no_price_acc, no_discount_acc, no_rate_acc, no_rate_cnt_acc, no_cat_acc]\n",
    "acc_diff = [best_test_acc - acc for acc in no_feat_acc]\n",
    "\n",
    "print(acc_diff)\n",
    "plt.rcParams[\"figure.figsize\"] = (5.5,2.8)\n",
    "plt.title('Accuracy decrease without feature')\n",
    "plt.ylabel('Acc decrease')\n",
    "plt.xlabel('Without feature')\n",
    "\n",
    "plt.bar(no_feat, acc_diff)\n",
    "plt.show()"
   ]
  },
  {
   "cell_type": "markdown",
   "id": "ee0a44b6",
   "metadata": {
    "pycharm": {
     "name": "#%% md\n"
    }
   },
   "source": [
    "# How features influence the final result"
   ]
  },
  {
   "cell_type": "markdown",
   "id": "5f2b5a82",
   "metadata": {
    "pycharm": {
     "name": "#%% md\n"
    }
   },
   "source": [
    "# Questions\n",
    "\n",
    "* ### Did you have to clean or restructure your data?\n",
    "    * Yes. Some of our data contains N/A property. Therefore we should drop these rows.\n",
    "    * We also use onehot encoding to transfer categorical variable into numerical. \n",
    "    \n",
    "* ### Why did you use this statistical test or ML algorithm? \n",
    "    * Our goal is to predict whether a product will be a top-seller. We define top sellers as top 50 products in the list. Therefore it is a binary classification problem. \n",
    "    * Since we have a label for each product (is top-seller or not), we should use supervised learning paradigm.\n",
    "    * Our dataset size is relatively small (less than 800 data points), therefore we should avoid using complicated models such as Deep Learning which may easily overfit the dataset.\n",
    "    * In short, we should choose a *simple*, *supervised* machine learning model for a *binary classification* problem. Therefore Logistics Regression is a great choice.\n",
    "    \n",
    "* ### Which other tests did you consider or evaluate? \n",
    "    * Besides normal accuracy test, we also conduct experiments to explore: (1) how different scale method influence the experiment results, (2) explore how different features influence the experiment results\n",
    "    \n",
    "* ### How did you measure success or failure?\n",
    "    * We measure success by evaluating if the model can predict a product in the testset is top-seller or not correctly.\n",
    "    * Specifically, we use accuracy in our experiment.\n",
    "    \n",
    "* ### Why that metric/value? \n",
    "    * In our definition, top-seller products defined as top 50 products is labeled positive, and the rest 50 products is labeled negative. \n",
    "    * Since the label classes is balanced, accuracy is a great choice.\n",
    "    \n",
    "* ### What challenges did you face evaluating the model? \n",
    "    * Since we are trying to explore the how the model performance is influenced by different hyper-parameters and features, we find it hard to structure the code to run these experiments in a orgnized way. For example, sklearn provide API for hyperparameter grid search, while hyperparameters are not necessarily compatible with each other, e.g., lbfgs solver can only be used under 'l2' regularization. \n",
    "    * Also since our dataset is relatively small, the test accuracy may vary from time to time. Therefore we choose to repeat test for 100 times and then compute the average accuracy.\n",
    "    \n",
    "* ### What is your interpretation of the results? \n",
    "    * Our best test accuracy is 57%, which means we can predict the label correctly about 57 times out of 100 trials.\n",
    "* ### Do you accept or deny the hypothesis, or are you satisfied with your prediction accuracy?\n",
    "    * We are not quite satisfied with the prediction accuracy. \n",
    "* ### For prediction projects, we expect you to argue why you got the accuracy/success metric you have. \n",
    "    * ???\n",
    "* ### Intuitively, how do you react to the results? Are you confident in the results?\n",
    "    * ???"
   ]
  },
  {
   "cell_type": "code",
   "execution_count": null,
   "id": "28078539",
   "metadata": {
    "pycharm": {
     "name": "#%%\n"
    }
   },
   "outputs": [],
   "source": []
  }
 ],
 "metadata": {
  "kernelspec": {
   "display_name": "Python 3.9 (tensorflow)",
   "language": "python",
   "name": "tensorflow"
  },
  "language_info": {
   "codemirror_mode": {
    "name": "ipython",
    "version": 3
   },
   "file_extension": ".py",
   "mimetype": "text/x-python",
   "name": "python",
   "nbconvert_exporter": "python",
   "pygments_lexer": "ipython3",
   "version": "3.9.10"
  }
 },
 "nbformat": 4,
 "nbformat_minor": 5
}